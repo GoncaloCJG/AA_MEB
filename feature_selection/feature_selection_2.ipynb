{
 "cells": [
  {
   "cell_type": "code",
   "execution_count": 1,
   "id": "c6ca8d7c",
   "metadata": {},
   "outputs": [],
   "source": [
    "### FEATURE SELECTION ON THREE SEPARATE DATASETS ###\n",
    "\n",
    "# import modules\n",
    "import pandas as pd\n",
    "import numpy as np"
   ]
  },
  {
   "cell_type": "code",
   "execution_count": 2,
   "id": "54f5b6d3",
   "metadata": {},
   "outputs": [
    {
     "name": "stdout",
     "output_type": "stream",
     "text": [
      "108 107 107\n"
     ]
    }
   ],
   "source": [
    "# load datasets\n",
    "\n",
    "fifty_neither_vs_mel_keratosis = pd.read_csv('../dataset_versions/50neither_vs_mel_keratosis.csv')\n",
    "mel_vs_keratosis = pd.read_csv('../dataset_versions/mel_vs_keratosis.csv')\n",
    "neither_vs_melkeratosis = pd.read_csv('../dataset_versions/neither_vs_melkeratosis.csv')\n",
    "print(len(fifty_neither_vs_mel_keratosis.columns), len(mel_vs_keratosis.columns), len(neither_vs_melkeratosis.columns))"
   ]
  },
  {
   "cell_type": "code",
   "execution_count": 3,
   "id": "c652609a",
   "metadata": {},
   "outputs": [
    {
     "name": "stdout",
     "output_type": "stream",
     "text": [
      "105 105 105\n"
     ]
    }
   ],
   "source": [
    "fnmk_features = fifty_neither_vs_mel_keratosis.drop([\"melanoma\", \"seborrheic_keratosis\", \"neither\"], axis=1)\n",
    "mk_features = mel_vs_keratosis.drop([\"melanoma\", \"seborrheic_keratosis\"], axis=1)\n",
    "nm_features = neither_vs_melkeratosis.drop([\"mel_keratosis\", \"neither\"], axis=1)\n",
    "print(len(fnmk_features.columns), len(mk_features.columns), len(nm_features.columns))"
   ]
  },
  {
   "cell_type": "code",
   "execution_count": 4,
   "id": "686469be",
   "metadata": {},
   "outputs": [
    {
     "data": {
      "text/plain": [
       "Index(['image_id', 'age_approximate', 'sex', 'red_mode', 'green_mode',\n",
       "       'blue_mode', 'red_median', 'green_median', 'blue_median', 'red_iqr',\n",
       "       ...\n",
       "       'original_glszm_SmallAreaHighGrayLevelEmphasis',\n",
       "       'original_glszm_SmallAreaLowGrayLevelEmphasis',\n",
       "       'original_glszm_ZoneEntropy', 'original_glszm_ZonePercentage',\n",
       "       'original_glszm_ZoneVariance', 'original_ngtdm_Busyness',\n",
       "       'original_ngtdm_Coarseness', 'original_ngtdm_Complexity',\n",
       "       'original_ngtdm_Contrast', 'original_ngtdm_Strength'],\n",
       "      dtype='object', length=105)"
      ]
     },
     "execution_count": 4,
     "metadata": {},
     "output_type": "execute_result"
    }
   ],
   "source": [
    "mk_features.columns.unique()"
   ]
  },
  {
   "cell_type": "code",
   "execution_count": 5,
   "id": "aaad2efd",
   "metadata": {},
   "outputs": [],
   "source": [
    "# Function to extract the features with correlation over a threshold\n",
    "def correlation(dataset, threshold):\n",
    "    col_corr = set() # Set of all the names of correlated columns\n",
    "    corr_matrix = dataset.corr(numeric_only=1)\n",
    "    for i in range(len(corr_matrix.columns)):\n",
    "        for j in range(i):\n",
    "            if abs(corr_matrix.iloc[i,j]) > threshold: # We are interested in abs coeff value\n",
    "                colname = corr_matrix.columns[i] # getting the name of the column\n",
    "                col_corr.add(colname)\n",
    "    return col_corr"
   ]
  },
  {
   "cell_type": "code",
   "execution_count": 6,
   "id": "4d99ee3b",
   "metadata": {},
   "outputs": [],
   "source": [
    "# extract correlated features\n",
    "fnmk_corr_features = correlation(fnmk_features, 0.9)\n",
    "mk_corr_features = correlation(mk_features, 0.9)\n",
    "nm_corr_features = correlation(nm_features, 0.9)\n",
    "\n",
    "# drop correlated features\n",
    "fnmk_best_features = fnmk_features.drop(fnmk_corr_features, axis=1)\n",
    "mk_best_features = mk_features.drop(mk_corr_features, axis=1)\n",
    "nm_best_features = nm_features.drop(nm_corr_features, axis=1)"
   ]
  },
  {
   "cell_type": "code",
   "execution_count": 7,
   "id": "61880c77",
   "metadata": {},
   "outputs": [],
   "source": [
    "# append target columns to selected features dataframe\n",
    "fifty_neither_vs_mel_keratosis_features_targets = fnmk_best_features.join(fifty_neither_vs_mel_keratosis[[\"melanoma\",\"seborrheic_keratosis\",\"neither\"]]).drop(columns=['age_approximate', 'sex'])\n",
    "mel_vs_keratosis_features_targets = mk_best_features.join(mel_vs_keratosis[[\"melanoma\", \"seborrheic_keratosis\"]]).drop(columns=['age_approximate', 'sex'])\n",
    "neither_vs_melkeratosis_features_targets = nm_best_features.join(neither_vs_melkeratosis[[\"mel_keratosis\", \"neither\"]]).drop(columns=['age_approximate', 'sex'])"
   ]
  },
  {
   "cell_type": "code",
   "execution_count": 8,
   "id": "2cddab49",
   "metadata": {},
   "outputs": [],
   "source": [
    "# save \n",
    "fifty_neither_vs_mel_keratosis_features_targets.to_csv('./fifty_neither_vs_mel_keratosis_feature_targets.csv', index=False)\n",
    "mel_vs_keratosis_features_targets.to_csv('./mel_vs_keratosis_features_targets.csv')\n",
    "neither_vs_melkeratosis_features_targets.to_csv('./neither_vs_melkeratosis_features_targets.csv')"
   ]
  }
 ],
 "metadata": {
  "kernelspec": {
   "display_name": "aaenv",
   "language": "python",
   "name": "aaenv"
  },
  "language_info": {
   "codemirror_mode": {
    "name": "ipython",
    "version": 3
   },
   "file_extension": ".py",
   "mimetype": "text/x-python",
   "name": "python",
   "nbconvert_exporter": "python",
   "pygments_lexer": "ipython3",
   "version": "3.8.10"
  }
 },
 "nbformat": 4,
 "nbformat_minor": 5
}
