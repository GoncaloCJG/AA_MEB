{
 "cells": [
  {
   "cell_type": "code",
   "execution_count": 1,
   "id": "c6ca8d7c",
   "metadata": {},
   "outputs": [],
   "source": [
    "### FEATURE SELECTION ON THREE SEPARATE DATASETS ###\n",
    "\n",
    "# import modules\n",
    "import pandas as pd\n",
    "import numpy as np\n",
    "import matplotlib.pyplot as plt"
   ]
  },
  {
   "cell_type": "code",
   "execution_count": 2,
   "id": "54f5b6d3",
   "metadata": {},
   "outputs": [],
   "source": [
    "# load datasets\n",
    "\n",
    "fifty_neither_vs_mel_keratosis = pd.read_csv('../dataset_versions/50neither_vs_mel_keratosis.csv')\n",
    "mel_vs_keratosis = pd.read_csv('../dataset_versions/mel_vs_keratosis.csv')\n",
    "neither_vs_melkeratosis = pd.read_csv('../dataset_versions/neither_vs_melkeratosis.csv')"
   ]
  },
  {
   "cell_type": "code",
   "execution_count": 3,
   "id": "c652609a",
   "metadata": {},
   "outputs": [],
   "source": [
    "fnmk_features = fifty_neither_vs_mel_keratosis.drop([\"melanoma\", \"seborrheic_keratosis\", \"neither\"], axis=1)\n",
    "mk_features = mel_vs_keratosis.drop([\"melanoma\", \"seborrheic_keratosis\"], axis=1)\n",
    "nm_features = neither_vs_melkeratosis.drop([\"mel_keratosis\", \"neither\"], axis=1)"
   ]
  },
  {
   "cell_type": "code",
   "execution_count": 4,
   "id": "aaad2efd",
   "metadata": {},
   "outputs": [],
   "source": [
    "# Function to extract the features with correlation over a threshold\n",
    "def correlation(dataset, threshold):\n",
    "    col_corr = set() # Set of all the names of correlated columns\n",
    "    corr_matrix = dataset.corr(numeric_only=1)\n",
    "    for i in range(len(corr_matrix.columns)):\n",
    "        for j in range(i):\n",
    "            if abs(corr_matrix.iloc[i,j]) > threshold: # We are interested in abs coeff value\n",
    "                colname = corr_matrix.columns[i] # getting the name of the column\n",
    "                col_corr.add(colname)\n",
    "    return col_corr"
   ]
  },
  {
   "cell_type": "code",
   "execution_count": 5,
   "id": "4d99ee3b",
   "metadata": {},
   "outputs": [],
   "source": [
    "\n",
    "# extract correlated features\n",
    "fnmk_corr_features = correlation(fnmk_features, 0.9)\n",
    "mk_corr_features = correlation(mk_features, 0.9)\n",
    "nm_corr_features = correlation(nm_features, 0.9)\n",
    "\n",
    "# drop correlated features\n",
    "fnmk_best_features = fnmk_features.drop(fnmk_corr_features, axis=1)\n",
    "mk_best_features = mk_features.drop(mk_corr_features, axis=1)\n",
    "nm_best_features = nm_features.drop(nm_corr_features, axis=1)"
   ]
  },
  {
   "cell_type": "code",
   "execution_count": 6,
   "id": "89af44ad",
   "metadata": {},
   "outputs": [
    {
     "name": "stdout",
     "output_type": "stream",
     "text": [
      "46 42 46\n"
     ]
    }
   ],
   "source": [
    "print(len(fnmk_best_features.columns), len(mk_best_features.columns), len(nm_best_features.columns))"
   ]
  },
  {
   "cell_type": "code",
   "execution_count": null,
   "id": "0af06e5b",
   "metadata": {},
   "outputs": [],
   "source": [
    "## why does the mk dataset has 42 features left when the correlated ones are droped...?"
   ]
  }
 ],
 "metadata": {
  "kernelspec": {
   "display_name": "aaenv",
   "language": "python",
   "name": "aaenv"
  },
  "language_info": {
   "codemirror_mode": {
    "name": "ipython",
    "version": 3
   },
   "file_extension": ".py",
   "mimetype": "text/x-python",
   "name": "python",
   "nbconvert_exporter": "python",
   "pygments_lexer": "ipython3",
   "version": "3.8.10"
  }
 },
 "nbformat": 4,
 "nbformat_minor": 5
}
