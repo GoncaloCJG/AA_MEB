{
 "cells": [
  {
   "cell_type": "code",
   "execution_count": 1,
   "id": "c6ca8d7c",
   "metadata": {},
   "outputs": [],
   "source": [
    "### FEATURE SELECTION ON THREE SEPARATE DATASETS ###\n",
    "\n",
    "# import modules\n",
    "import pandas as pd\n",
    "import numpy as np\n",
    "import matplotlib.pyplot as plt\n",
    "from sklearn.linear_model import RidgeCV\n",
    "from sklearn.feature_selection import SelectKBest, chi2\n",
    "from sklearn.linear_model import RidgeClassifier, LinearRegression\n",
    "from sklearn.feature_selection import SelectFromModel"
   ]
  },
  {
   "cell_type": "code",
   "execution_count": 2,
   "id": "54f5b6d3",
   "metadata": {},
   "outputs": [
    {
     "name": "stdout",
     "output_type": "stream",
     "text": [
      "108 107 107\n"
     ]
    }
   ],
   "source": [
    "# load datasets\n",
    "\n",
    "fifty_neither_vs_mel_keratosis = pd.read_csv('../dataset_versions/50neither_vs_mel_keratosis.csv')\n",
    "mel_vs_keratosis = pd.read_csv('../dataset_versions/mel_vs_keratosis.csv')\n",
    "neither_vs_melkeratosis = pd.read_csv('../dataset_versions/neither_vs_melkeratosis.csv')\n",
    "print(len(fifty_neither_vs_mel_keratosis.columns), len(mel_vs_keratosis.columns), len(neither_vs_melkeratosis.columns))"
   ]
  },
  {
   "cell_type": "code",
   "execution_count": 3,
   "id": "c652609a",
   "metadata": {},
   "outputs": [],
   "source": [
    "fnmk_features = fifty_neither_vs_mel_keratosis.drop([\"melanoma\", \"seborrheic_keratosis\", \"neither\",'age_approximate', 'sex'], axis=1)\n",
    "mk_features = mel_vs_keratosis.drop([\"melanoma\", \"seborrheic_keratosis\", 'age_approximate', 'sex'], axis=1)\n",
    "nm_features = neither_vs_melkeratosis.drop([\"mel_keratosis\", \"neither\", 'age_approximate', 'sex'], axis=1)"
   ]
  },
  {
   "cell_type": "code",
   "execution_count": 4,
   "id": "686469be",
   "metadata": {},
   "outputs": [
    {
     "data": {
      "text/plain": [
       "Index(['image_id', 'red_mode', 'green_mode', 'blue_mode', 'red_median',\n",
       "       'green_median', 'blue_median', 'red_iqr', 'green_iqr', 'blue_iqr',\n",
       "       ...\n",
       "       'original_glszm_SmallAreaHighGrayLevelEmphasis',\n",
       "       'original_glszm_SmallAreaLowGrayLevelEmphasis',\n",
       "       'original_glszm_ZoneEntropy', 'original_glszm_ZonePercentage',\n",
       "       'original_glszm_ZoneVariance', 'original_ngtdm_Busyness',\n",
       "       'original_ngtdm_Coarseness', 'original_ngtdm_Complexity',\n",
       "       'original_ngtdm_Contrast', 'original_ngtdm_Strength'],\n",
       "      dtype='object', length=103)"
      ]
     },
     "execution_count": 4,
     "metadata": {},
     "output_type": "execute_result"
    }
   ],
   "source": [
    "mk_features.columns.unique()"
   ]
  },
  {
   "cell_type": "markdown",
   "id": "b9f04b6f",
   "metadata": {},
   "source": [
    "FEATURE SELECTION BASED ON CORRELATION.\n",
    "To remove redundant features, drop those who are highly correlated"
   ]
  },
  {
   "cell_type": "code",
   "execution_count": 5,
   "id": "aaad2efd",
   "metadata": {},
   "outputs": [],
   "source": [
    "# Function to extract the features with correlation over a threshold\n",
    "def correlation(dataset, threshold):\n",
    "    col_corr = set() # Set of all the names of correlated columns\n",
    "    corr_matrix = dataset.corr(numeric_only=1)\n",
    "    for i in range(len(corr_matrix.columns)):\n",
    "        for j in range(i):\n",
    "            if abs(corr_matrix.iloc[i,j]) > threshold: # We are interested in abs coeff value\n",
    "                colname = corr_matrix.columns[i] # getting the name of the column\n",
    "                col_corr.add(colname)\n",
    "    return col_corr"
   ]
  },
  {
   "cell_type": "code",
   "execution_count": 6,
   "id": "4d99ee3b",
   "metadata": {},
   "outputs": [
    {
     "name": "stdout",
     "output_type": "stream",
     "text": [
      "44 40 44\n"
     ]
    }
   ],
   "source": [
    "# extract correlated features\n",
    "fnmk_corr_features = correlation(fnmk_features, 0.9)\n",
    "mk_corr_features = correlation(mk_features, 0.9)\n",
    "nm_corr_features = correlation(nm_features, 0.9)\n",
    "\n",
    "# drop correlated features\n",
    "fnmk_best_features = fnmk_features.drop(fnmk_corr_features, axis=1)\n",
    "mk_best_features = mk_features.drop(mk_corr_features, axis=1)\n",
    "nm_best_features = nm_features.drop(nm_corr_features, axis=1)\n",
    "print(len(fnmk_best_features.columns),len(mk_best_features.columns), len(nm_best_features.columns))"
   ]
  },
  {
   "cell_type": "markdown",
   "id": "6f4a38dd",
   "metadata": {},
   "source": [
    "FEATURE SELECTION BASED ON VARIANCE\n",
    "Remove features that have low variance (no impact on the target) and those with too high variance (pyradiomics algorithm outputting excentric values) \n",
    "\n",
    "Importance of variance in machine learning model development\n",
    "van der Putten, P., van Someren, M. A Bias-Variance Analysis of a Real World Learning Problem: The CoIL Challenge 2000. Machine Learning 57, 177–195 (2004). https://doi.org/10.1023/B:MACH.0000035476.95130.99"
   ]
  },
  {
   "cell_type": "code",
   "execution_count": 7,
   "id": "3a46f12c",
   "metadata": {},
   "outputs": [
    {
     "name": "stdout",
     "output_type": "stream",
     "text": [
      "Feature com variância máxima: 2782471134808382.5 Feature com variância mínima: 3.62825227457758e-05\n"
     ]
    },
    {
     "name": "stderr",
     "output_type": "stream",
     "text": [
      "/tmp/ipykernel_32928/20682678.py:1: FutureWarning: The default value of numeric_only in DataFrame.var is deprecated. In a future version, it will default to False. In addition, specifying 'numeric_only=None' is deprecated. Select only valid columns or specify the value of numeric_only to silence this warning.\n",
      "  va = fnmk_best_features.var(ddof=0)\n",
      "/tmp/ipykernel_32928/20682678.py:5: FutureWarning: The default value of numeric_only in DataFrame.var is deprecated. In a future version, it will default to False. In addition, specifying 'numeric_only=None' is deprecated. Select only valid columns or specify the value of numeric_only to silence this warning.\n",
      "  plt.boxplot(np.log10(fnmk_best_features.var(ddof=0)),autorange=True, labels=['Features'])\n"
     ]
    },
    {
     "data": {
      "image/png": "[encoded data removed]",
      "text/plain": [
       "<Figure size 640x480 with 1 Axes>"
      ]
     },
     "metadata": {},
     "output_type": "display_data"
    }
   ],
   "source": [
    "va = fnmk_best_features.var(ddof=0)\n",
    "print('Feature com variância máxima: ' + str(max(list(va))), 'Feature com variância mínima: ' + str(min(list(va))))\n",
    "\n",
    "### plot variance of current features\n",
    "plt.boxplot(np.log10(fnmk_best_features.var(ddof=0)),autorange=True, labels=['Features'])\n",
    "# Add title and axis names\n",
    "plt.title('Boxplot para as variâncias de cada feature antes da selecção')\n",
    "plt.ylabel('Log10 variâncias')\n",
    "plt.savefig('../plots/feature_variance_before_selection.png', bbox_inches='tight')\n",
    "# Show graph\n",
    "plt.show()\n"
   ]
  },
  {
   "cell_type": "code",
   "execution_count": 8,
   "id": "6f8b3cfc",
   "metadata": {},
   "outputs": [],
   "source": [
    "# function to remove features based on variance outliers\n",
    "## this function calculates the variance for each feature, appends the values to a list and removes features\n",
    "## lower and upper outliers. If a feature as too high ou too low variance, it is removed\n",
    "\n",
    "def feature_selection_variance(data):\n",
    "    variance_list = []\n",
    "    \n",
    "    for i in data.columns[1:]:\n",
    "        variance_list.append(data[i].var(ddof=0))\n",
    "\n",
    "    variance_q1 = np.quantile(variance_list, 0.25)\n",
    "    variance_q3 = np.quantile(variance_list, 0.75)\n",
    "    variance_med = np.median(variance_list)\n",
    "    variance_iqr = variance_q3 - variance_q1\n",
    "    variance_ub = variance_q3 + (1.5 * variance_iqr)\n",
    "    variance_lb = variance_q1 - (1.5 *  variance_iqr)\n",
    "    variance_outliers = [v for v in variance_list if v <= variance_lb or v >= variance_ub]\n",
    "    \n",
    "    for u in data.columns[1:]:\n",
    "        if data[u].var(ddof=0) in variance_outliers:\n",
    "            data = data.drop(u, axis=1)\n",
    "    \n",
    "    return data"
   ]
  },
  {
   "cell_type": "code",
   "execution_count": 9,
   "id": "310d602d",
   "metadata": {},
   "outputs": [
    {
     "name": "stdout",
     "output_type": "stream",
     "text": [
      "36 34 36\n"
     ]
    },
    {
     "data": {
      "text/html": [
       "<div>\n",
       "<style scoped>\n",
       "    .dataframe tbody tr th:only-of-type {\n",
       "        vertical-align: middle;\n",
       "    }\n",
       "\n",
       "    .dataframe tbody tr th {\n",
       "        vertical-align: top;\n",
       "    }\n",
       "\n",
       "    .dataframe thead th {\n",
       "        text-align: right;\n",
       "    }\n",
       "</style>\n",
       "<table border=\"1\" class=\"dataframe\">\n",
       "  <thead>\n",
       "    <tr style=\"text-align: right;\">\n",
       "      <th></th>\n",
       "      <th>image_id</th>\n",
       "      <th>red_mode</th>\n",
       "      <th>green_mode</th>\n",
       "      <th>blue_mode</th>\n",
       "      <th>red_iqr</th>\n",
       "      <th>green_iqr</th>\n",
       "      <th>blue_iqr</th>\n",
       "      <th>original_firstorder_10Percentile</th>\n",
       "      <th>original_firstorder_90Percentile</th>\n",
       "      <th>original_firstorder_Entropy</th>\n",
       "      <th>...</th>\n",
       "      <th>original_gldm_DependenceNonUniformityNormalized</th>\n",
       "      <th>original_gldm_LargeDependenceEmphasis</th>\n",
       "      <th>original_gldm_LargeDependenceLowGrayLevelEmphasis</th>\n",
       "      <th>original_glrlm_LongRunEmphasis</th>\n",
       "      <th>original_glrlm_LongRunLowGrayLevelEmphasis</th>\n",
       "      <th>original_glszm_SizeZoneNonUniformityNormalized</th>\n",
       "      <th>original_glszm_ZoneEntropy</th>\n",
       "      <th>original_ngtdm_Complexity</th>\n",
       "      <th>original_ngtdm_Contrast</th>\n",
       "      <th>original_ngtdm_Strength</th>\n",
       "    </tr>\n",
       "  </thead>\n",
       "  <tbody>\n",
       "    <tr>\n",
       "      <th>0</th>\n",
       "      <td>ISIC_0000001</td>\n",
       "      <td>87</td>\n",
       "      <td>53</td>\n",
       "      <td>46</td>\n",
       "      <td>86</td>\n",
       "      <td>58</td>\n",
       "      <td>40</td>\n",
       "      <td>112.0</td>\n",
       "      <td>135.0</td>\n",
       "      <td>1.163592</td>\n",
       "      <td>...</td>\n",
       "      <td>0.319269</td>\n",
       "      <td>4.672684</td>\n",
       "      <td>0.974713</td>\n",
       "      <td>1.455006</td>\n",
       "      <td>0.299423</td>\n",
       "      <td>0.455025</td>\n",
       "      <td>2.777913</td>\n",
       "      <td>0.808480</td>\n",
       "      <td>0.006020</td>\n",
       "      <td>0.124740</td>\n",
       "    </tr>\n",
       "    <tr>\n",
       "      <th>1</th>\n",
       "      <td>ISIC_0000002</td>\n",
       "      <td>162</td>\n",
       "      <td>120</td>\n",
       "      <td>114</td>\n",
       "      <td>26</td>\n",
       "      <td>52</td>\n",
       "      <td>67</td>\n",
       "      <td>157.0</td>\n",
       "      <td>169.0</td>\n",
       "      <td>0.112792</td>\n",
       "      <td>...</td>\n",
       "      <td>0.306757</td>\n",
       "      <td>5.051852</td>\n",
       "      <td>1.278172</td>\n",
       "      <td>1.499710</td>\n",
       "      <td>0.380191</td>\n",
       "      <td>0.415954</td>\n",
       "      <td>1.932127</td>\n",
       "      <td>0.007574</td>\n",
       "      <td>0.000012</td>\n",
       "      <td>0.941026</td>\n",
       "    </tr>\n",
       "    <tr>\n",
       "      <th>2</th>\n",
       "      <td>ISIC_0000003</td>\n",
       "      <td>182</td>\n",
       "      <td>128</td>\n",
       "      <td>51</td>\n",
       "      <td>60</td>\n",
       "      <td>57</td>\n",
       "      <td>48</td>\n",
       "      <td>176.0</td>\n",
       "      <td>191.0</td>\n",
       "      <td>0.360618</td>\n",
       "      <td>...</td>\n",
       "      <td>0.302680</td>\n",
       "      <td>5.162065</td>\n",
       "      <td>1.407530</td>\n",
       "      <td>1.505587</td>\n",
       "      <td>0.429752</td>\n",
       "      <td>0.434164</td>\n",
       "      <td>2.214528</td>\n",
       "      <td>0.119264</td>\n",
       "      <td>0.000637</td>\n",
       "      <td>0.080628</td>\n",
       "    </tr>\n",
       "    <tr>\n",
       "      <th>3</th>\n",
       "      <td>ISIC_0000004</td>\n",
       "      <td>192</td>\n",
       "      <td>132</td>\n",
       "      <td>171</td>\n",
       "      <td>36</td>\n",
       "      <td>44</td>\n",
       "      <td>55</td>\n",
       "      <td>26.0</td>\n",
       "      <td>205.0</td>\n",
       "      <td>2.589392</td>\n",
       "      <td>...</td>\n",
       "      <td>0.322044</td>\n",
       "      <td>4.673329</td>\n",
       "      <td>0.806039</td>\n",
       "      <td>1.548163</td>\n",
       "      <td>0.268533</td>\n",
       "      <td>0.432653</td>\n",
       "      <td>4.275156</td>\n",
       "      <td>3.153283</td>\n",
       "      <td>0.021736</td>\n",
       "      <td>2.213424</td>\n",
       "    </tr>\n",
       "    <tr>\n",
       "      <th>4</th>\n",
       "      <td>ISIC_0000007</td>\n",
       "      <td>153</td>\n",
       "      <td>108</td>\n",
       "      <td>87</td>\n",
       "      <td>46</td>\n",
       "      <td>70</td>\n",
       "      <td>83</td>\n",
       "      <td>134.0</td>\n",
       "      <td>146.0</td>\n",
       "      <td>0.130615</td>\n",
       "      <td>...</td>\n",
       "      <td>0.319799</td>\n",
       "      <td>4.842105</td>\n",
       "      <td>1.259935</td>\n",
       "      <td>1.550411</td>\n",
       "      <td>0.397945</td>\n",
       "      <td>0.408983</td>\n",
       "      <td>1.894236</td>\n",
       "      <td>0.037263</td>\n",
       "      <td>0.000061</td>\n",
       "      <td>0.416268</td>\n",
       "    </tr>\n",
       "  </tbody>\n",
       "</table>\n",
       "<p>5 rows × 36 columns</p>\n",
       "</div>"
      ],
      "text/plain": [
       "       image_id  red_mode  green_mode  blue_mode  red_iqr  green_iqr  \\\n",
       "0  ISIC_0000001        87          53         46       86         58   \n",
       "1  ISIC_0000002       162         120        114       26         52   \n",
       "2  ISIC_0000003       182         128         51       60         57   \n",
       "3  ISIC_0000004       192         132        171       36         44   \n",
       "4  ISIC_0000007       153         108         87       46         70   \n",
       "\n",
       "   blue_iqr  original_firstorder_10Percentile  \\\n",
       "0        40                             112.0   \n",
       "1        67                             157.0   \n",
       "2        48                             176.0   \n",
       "3        55                              26.0   \n",
       "4        83                             134.0   \n",
       "\n",
       "   original_firstorder_90Percentile  original_firstorder_Entropy  ...  \\\n",
       "0                             135.0                     1.163592  ...   \n",
       "1                             169.0                     0.112792  ...   \n",
       "2                             191.0                     0.360618  ...   \n",
       "3                             205.0                     2.589392  ...   \n",
       "4                             146.0                     0.130615  ...   \n",
       "\n",
       "   original_gldm_DependenceNonUniformityNormalized  \\\n",
       "0                                         0.319269   \n",
       "1                                         0.306757   \n",
       "2                                         0.302680   \n",
       "3                                         0.322044   \n",
       "4                                         0.319799   \n",
       "\n",
       "   original_gldm_LargeDependenceEmphasis  \\\n",
       "0                               4.672684   \n",
       "1                               5.051852   \n",
       "2                               5.162065   \n",
       "3                               4.673329   \n",
       "4                               4.842105   \n",
       "\n",
       "   original_gldm_LargeDependenceLowGrayLevelEmphasis  \\\n",
       "0                                           0.974713   \n",
       "1                                           1.278172   \n",
       "2                                           1.407530   \n",
       "3                                           0.806039   \n",
       "4                                           1.259935   \n",
       "\n",
       "   original_glrlm_LongRunEmphasis  original_glrlm_LongRunLowGrayLevelEmphasis  \\\n",
       "0                        1.455006                                    0.299423   \n",
       "1                        1.499710                                    0.380191   \n",
       "2                        1.505587                                    0.429752   \n",
       "3                        1.548163                                    0.268533   \n",
       "4                        1.550411                                    0.397945   \n",
       "\n",
       "   original_glszm_SizeZoneNonUniformityNormalized  original_glszm_ZoneEntropy  \\\n",
       "0                                        0.455025                    2.777913   \n",
       "1                                        0.415954                    1.932127   \n",
       "2                                        0.434164                    2.214528   \n",
       "3                                        0.432653                    4.275156   \n",
       "4                                        0.408983                    1.894236   \n",
       "\n",
       "   original_ngtdm_Complexity  original_ngtdm_Contrast  original_ngtdm_Strength  \n",
       "0                   0.808480                 0.006020                 0.124740  \n",
       "1                   0.007574                 0.000012                 0.941026  \n",
       "2                   0.119264                 0.000637                 0.080628  \n",
       "3                   3.153283                 0.021736                 2.213424  \n",
       "4                   0.037263                 0.000061                 0.416268  \n",
       "\n",
       "[5 rows x 36 columns]"
      ]
     },
     "execution_count": 9,
     "metadata": {},
     "output_type": "execute_result"
    }
   ],
   "source": [
    "# remove outlier features from the datasets\n",
    "\n",
    "fnmk_best_features = feature_selection_variance(fnmk_best_features)\n",
    "mk_best_features = feature_selection_variance(mk_best_features)\n",
    "nm_best_features = feature_selection_variance(nm_best_features)\n",
    "print(len(fnmk_best_features.columns),len(mk_best_features.columns), len(nm_best_features.columns))\n",
    "fnmk_best_features.head()"
   ]
  },
  {
   "cell_type": "code",
   "execution_count": 10,
   "id": "2a456a93",
   "metadata": {},
   "outputs": [
    {
     "name": "stderr",
     "output_type": "stream",
     "text": [
      "/tmp/ipykernel_32928/2467523384.py:2: FutureWarning: The default value of numeric_only in DataFrame.var is deprecated. In a future version, it will default to False. In addition, specifying 'numeric_only=None' is deprecated. Select only valid columns or specify the value of numeric_only to silence this warning.\n",
      "  plt.boxplot(np.log10(fnmk_best_features.var(ddof=0)))\n",
      "/tmp/ipykernel_32928/2467523384.py:7: MatplotlibDeprecationWarning: savefig() got unexpected keyword argument \"labels\" which is no longer supported as of 3.3 and will become an error in 3.6\n",
      "  plt.savefig('../plots/feature_variance_after_selection.png', labels=['Features'], bbox_inches='tight')\n"
     ]
    },
    {
     "data": {
      "image/png": "[encoded data removed]",
      "text/plain": [
       "<Figure size 640x480 with 1 Axes>"
      ]
     },
     "metadata": {},
     "output_type": "display_data"
    }
   ],
   "source": [
    "### plot variance of current features\n",
    "plt.boxplot(np.log10(fnmk_best_features.var(ddof=0)))\n",
    "# Add title and axis names\n",
    "plt.title('Boxplot para as variâncias de cada feature depois da selecção')\n",
    "plt.xlabel('Features')\n",
    "plt.ylabel('Log10 Variâncias')\n",
    "plt.savefig('../plots/feature_variance_after_selection.png', labels=['Features'], bbox_inches='tight')\n",
    "# Show graph\n",
    "plt.show()\n"
   ]
  },
  {
   "cell_type": "markdown",
   "id": "73855b3d",
   "metadata": {},
   "source": [
    "FEATURE SELECTION USING LINEAR MODELS TO DETERMINE THE MOST RELEVANT FEATURES"
   ]
  },
  {
   "cell_type": "code",
   "execution_count": 11,
   "id": "61880c77",
   "metadata": {},
   "outputs": [],
   "source": [
    "# append target columns to selected features dataframe\n",
    "fifty_neither_vs_mel_keratosis_features_targets = fnmk_best_features.join(fifty_neither_vs_mel_keratosis[[\"melanoma\",\"seborrheic_keratosis\",\"neither\"]])\n",
    "mel_vs_keratosis_features_targets = mk_best_features.join(mel_vs_keratosis[[\"melanoma\", \"seborrheic_keratosis\"]])\n",
    "neither_vs_melkeratosis_features_targets = nm_best_features.join(neither_vs_melkeratosis[[\"mel_keratosis\", \"neither\"]])"
   ]
  },
  {
   "cell_type": "code",
   "execution_count": null,
   "id": "ac16f985",
   "metadata": {},
   "outputs": [],
   "source": [
    "### FEATURE SELECION BASED ON A MODEL. A RIDGE CLASSIFIER (Least Squares SVM) we'll be used to extract\n",
    "### the most important features"
   ]
  },
  {
   "cell_type": "code",
   "execution_count": 12,
   "id": "11f74eb7",
   "metadata": {},
   "outputs": [
    {
     "data": {
      "text/plain": [
       "array(['red_median', 'red_iqr', 'green_iqr',\n",
       "       'original_firstorder_10Percentile',\n",
       "       'original_firstorder_90Percentile',\n",
       "       'original_firstorder_InterquartileRange',\n",
       "       'original_firstorder_Range', 'original_glcm_Autocorrelation',\n",
       "       'original_gldm_LargeDependenceEmphasis',\n",
       "       'original_glrlm_LongRunEmphasis',\n",
       "       'original_glrlm_LongRunLowGrayLevelEmphasis',\n",
       "       'original_glszm_ZoneEntropy', 'original_ngtdm_Strength'],\n",
       "      dtype=object)"
      ]
     },
     "execution_count": 12,
     "metadata": {},
     "output_type": "execute_result"
    }
   ],
   "source": [
    "X = neither_vs_melkeratosis_features_targets.iloc[:,1:-2]\n",
    "y = neither_vs_melkeratosis_features_targets[['mel_keratosis','neither']]\n",
    "feature_selector_from_model_a = SelectFromModel(estimator=RidgeClassifier(solver='lsqr')).fit(X, y)\n",
    "feature_selector_from_model_a.get_feature_names_out()"
   ]
  },
  {
   "cell_type": "code",
   "execution_count": 13,
   "id": "305b1b66",
   "metadata": {},
   "outputs": [
    {
     "data": {
      "text/plain": [
       "array(['blue_iqr', 'original_firstorder_Entropy',\n",
       "       'original_firstorder_Skewness',\n",
       "       'original_gldm_LargeDependenceLowGrayLevelEmphasis',\n",
       "       'original_glszm_ZoneEntropy', 'original_ngtdm_Complexity',\n",
       "       'original_ngtdm_Strength'], dtype=object)"
      ]
     },
     "execution_count": 13,
     "metadata": {},
     "output_type": "execute_result"
    }
   ],
   "source": [
    "X = mel_vs_keratosis_features_targets.iloc[:,1:-2]\n",
    "y = mel_vs_keratosis_features_targets[['melanoma', 'seborrheic_keratosis']]\n",
    "feature_selector_from_model_b = SelectFromModel(estimator=RidgeClassifier(solver='lsqr')).fit(X, y)\n",
    "feature_selector_from_model_b.get_feature_names_out()"
   ]
  },
  {
   "cell_type": "code",
   "execution_count": 14,
   "id": "5c22bfc0",
   "metadata": {},
   "outputs": [
    {
     "data": {
      "text/plain": [
       "array(['green_iqr', 'blue_iqr', 'original_firstorder_Skewness',\n",
       "       'original_glcm_Autocorrelation', 'original_glcm_Imc1',\n",
       "       'original_glcm_Imc2', 'original_gldm_LargeDependenceEmphasis',\n",
       "       'original_gldm_LargeDependenceLowGrayLevelEmphasis',\n",
       "       'original_glrlm_LongRunLowGrayLevelEmphasis',\n",
       "       'original_glszm_ZoneEntropy', 'original_ngtdm_Complexity',\n",
       "       'original_ngtdm_Strength'], dtype=object)"
      ]
     },
     "execution_count": 14,
     "metadata": {},
     "output_type": "execute_result"
    }
   ],
   "source": [
    "X = fifty_neither_vs_mel_keratosis_features_targets.iloc[:,1:-3]\n",
    "y = fifty_neither_vs_mel_keratosis_features_targets[[\"melanoma\",\"seborrheic_keratosis\",\"neither\"]]\n",
    "feature_selector_from_model_c = SelectFromModel(estimator=RidgeClassifier(solver='lsqr')).fit(X, y)\n",
    "feature_selector_from_model_c.get_feature_names_out()"
   ]
  },
  {
   "cell_type": "code",
   "execution_count": 15,
   "id": "2fa402c7",
   "metadata": {},
   "outputs": [],
   "source": [
    "# get only selected features\n",
    "\n",
    "to_keep_a = list(feature_selector_from_model_a.get_feature_names_out())\n",
    "to_keep_a.insert(0,'image_id')\n",
    "to_keep_a.extend(['mel_keratosis','neither'])\n",
    "neither_vs_melkeratosis_features_targets = neither_vs_melkeratosis_features_targets[to_keep_a]\n",
    "\n",
    "\n",
    "to_keep_b = list(feature_selector_from_model_b.get_feature_names_out())\n",
    "to_keep_b.insert(0, 'image_id')\n",
    "to_keep_b.extend(['melanoma', 'seborrheic_keratosis'])\n",
    "mel_vs_keratosis_features_targets = mel_vs_keratosis_features_targets[to_keep_b]\n",
    "\n",
    "\n",
    "to_keep_c = list(feature_selector_from_model_c.get_feature_names_out())\n",
    "to_keep_c.insert(0, 'image_id')\n",
    "to_keep_c.extend([\"melanoma\",\"seborrheic_keratosis\",\"neither\"])\n",
    "fifty_neither_vs_mel_keratosis_features_targets = fifty_neither_vs_mel_keratosis_features_targets[to_keep_c]\n"
   ]
  },
  {
   "cell_type": "code",
   "execution_count": 19,
   "id": "675efadf",
   "metadata": {},
   "outputs": [
    {
     "data": {
      "text/plain": [
       "(1314, 16)"
      ]
     },
     "execution_count": 19,
     "metadata": {},
     "output_type": "execute_result"
    }
   ],
   "source": [
    "neither_vs_melkeratosis_features_targets.to_csv('../neither_vs_melkeratosis_features_targets.csv')\n",
    "mel_vs_keratosis_features_targets.to_csv('../mel_vs_keratosis_features_targets.csv')\n",
    "fifty_neither_vs_mel_keratosis_features_targets.to_csv('../fifty_neither_vs_mel_keratosis_features_targets.csv')"
   ]
  }
 ],
 "metadata": {
  "kernelspec": {
   "display_name": "aaenv",
   "language": "python",
   "name": "aaenv"
  },
  "language_info": {
   "codemirror_mode": {
    "name": "ipython",
    "version": 3
   },
   "file_extension": ".py",
   "mimetype": "text/x-python",
   "name": "python",
   "nbconvert_exporter": "python",
   "pygments_lexer": "ipython3",
   "version": "3.8.10"
  }
 },
 "nbformat": 4,
 "nbformat_minor": 5
}
