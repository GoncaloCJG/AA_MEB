{
 "cells": [
  {
   "cell_type": "code",
   "execution_count": 1,
   "id": "85002cfa",
   "metadata": {},
   "outputs": [],
   "source": [
    "### NEURAL NETWORK FOR BINARY CLASSIFICATION\n",
    "# Import modules\n",
    "import pandas as pd\n",
    "import numpy as np\n",
    "import matplotlib.pyplot as plt\n",
    "from sklearn.preprocessing import StandardScaler\n",
    "from sklearn.model_selection import cross_val_score, train_test_split\n",
    "from sklearn.metrics import classification_report\n",
    "from sklearn.pipeline import Pipeline\n",
    "\n",
    "from sklearn.neural_network import MLPClassifier\n",
    "\n",
    "from sklearn.metrics import accuracy_score\n",
    "from sklearn.model_selection import GridSearchCV\n",
    "from sklearn.svm import SVC\n",
    "\n"
   ]
  },
  {
   "cell_type": "code",
   "execution_count": 2,
   "id": "b8da626f",
   "metadata": {},
   "outputs": [],
   "source": [
    "# Load data\n",
    "melanoma_vs_keratosis_features_targets = pd.read_csv('../mel_vs_keratosis_features_targets.csv')\n",
    "X = melanoma_vs_keratosis_features_targets.iloc[:,1:-2]\n",
    "y = melanoma_vs_keratosis_features_targets['melanoma']\n",
    "\n",
    "# Test and training set\n",
    "X_train, X_test, y_train, y_test = train_test_split(X, y, random_state=42)"
   ]
  },
  {
   "cell_type": "code",
   "execution_count": null,
   "id": "c5b622a0",
   "metadata": {},
   "outputs": [],
   "source": [
    "# Build the MPL\n",
    "mlp_mk = MLPClassifier(max_iter=300)\n",
    "\n",
    "\n",
    "# Hyperparameters to test\n",
    "params = {\n",
    "    'activation': ['tanh', 'relu','identity','logistic'],\n",
    "    'solver': ['sgd', 'adam','sgd'],\n",
    "    'alpha': [0.0001, 0.001, 0.05],\n",
    "    'learning_rate': ['constant','adaptive', 'invscaling'],\n",
    "}\n",
    "\n",
    "# scale data\n",
    "scaler = StandardScaler()\n",
    "\n",
    "X_train = scaler.fit_transform(X_train)\n",
    "X_test = scaler.transform(X_test)\n",
    "\n",
    "\n",
    "# train and evaluate the models\n",
    "neural_net = GridSearchCV(mlp_mk, params, n_jobs=-1, cv=3)\n",
    "neural_net.fit(X_train, y_train) \n",
    "print(\"Best parameter (CV score=%0.3f):\" % neural_net.best_score_)\n",
    "print(neural_net.best_params_)\n"
   ]
  },
  {
   "cell_type": "code",
   "execution_count": null,
   "id": "493b7cf7",
   "metadata": {},
   "outputs": [],
   "source": [
    "# test the model on new data                \n",
    "y_true, y_pred = y_test , neural_net.predict(X_test)\n",
    "print('Results on the test set: ')\n",
    "print(classification_report(y_true, y_pred))"
   ]
  },
  {
   "cell_type": "code",
   "execution_count": null,
   "id": "b369561f",
   "metadata": {},
   "outputs": [],
   "source": []
  }
 ],
 "metadata": {
  "kernelspec": {
   "display_name": "aaenv",
   "language": "python",
   "name": "aaenv"
  },
  "language_info": {
   "codemirror_mode": {
    "name": "ipython",
    "version": 3
   },
   "file_extension": ".py",
   "mimetype": "text/x-python",
   "name": "python",
   "nbconvert_exporter": "python",
   "pygments_lexer": "ipython3",
   "version": "3.8.10"
  }
 },
 "nbformat": 4,
 "nbformat_minor": 5
}
