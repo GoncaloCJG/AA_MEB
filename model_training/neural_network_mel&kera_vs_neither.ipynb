{
 "cells": [
  {
   "cell_type": "code",
   "execution_count": 1,
   "id": "3845eeaa",
   "metadata": {},
   "outputs": [],
   "source": [
    "### NEURAL NETWORK FOR BINARY CLASSIFICATION\n",
    "# Import modules\n",
    "import pandas as pd\n",
    "import numpy as np\n",
    "import matplotlib.pyplot as plt\n",
    "from sklearn.preprocessing import StandardScaler\n",
    "from sklearn.model_selection import cross_val_score, train_test_split\n",
    "from sklearn.metrics import classification_report\n",
    "from sklearn.pipeline import Pipeline\n",
    "\n",
    "from sklearn.neural_network import MLPClassifier\n",
    "\n",
    "from sklearn.metrics import accuracy_score\n",
    "from sklearn.model_selection import GridSearchCV\n",
    "from sklearn.svm import SVC"
   ]
  },
  {
   "cell_type": "code",
   "execution_count": 2,
   "id": "4400ff60",
   "metadata": {},
   "outputs": [],
   "source": [
    "neither_vs_melkeratosis_features_targets = pd.read_csv('../neither_vs_melkeratosis_features_targets.csv')\n",
    "\n",
    "X = neither_vs_melkeratosis_features_targets.iloc[:,1:-2]\n",
    "y = neither_vs_melkeratosis_features_targets['mel_keratosis']"
   ]
  },
  {
   "cell_type": "code",
   "execution_count": 3,
   "id": "23002d0b",
   "metadata": {},
   "outputs": [],
   "source": [
    "# Test and training set\n",
    "X_train, X_test, y_train, y_test = train_test_split(X, y, random_state=42)"
   ]
  },
  {
   "cell_type": "code",
   "execution_count": 4,
   "id": "5e47f6f2",
   "metadata": {},
   "outputs": [],
   "source": [
    "# Build the MPL\n",
    "mlp_mk = MLPClassifier()\n",
    "\n",
    "\n",
    "# Hyperparameters to test\n",
    "params = {\n",
    "    'activation': ['tanh', 'relu','identity','logistic'],\n",
    "    'solver': ['sgd', 'adam','sgd'],\n",
    "    'alpha': [0.0001, 0.001, 0.05],\n",
    "    'learning_rate': ['constant','adaptive', 'invscaling'],\n",
    "}\n",
    "\n",
    "# scale data\n",
    "scaler = StandardScaler()\n",
    "\n",
    "X_train = scaler.fit_transform(X_train)\n",
    "X_test = scaler.transform(X_test)\n"
   ]
  },
  {
   "cell_type": "code",
   "execution_count": 5,
   "id": "1c153a2d",
   "metadata": {},
   "outputs": [
    {
     "name": "stdout",
     "output_type": "stream",
     "text": [
      "Best parameter (CV score=0.744):\n",
      "{'activation': 'relu', 'alpha': 0.05, 'learning_rate': 'invscaling', 'solver': 'adam'}\n"
     ]
    },
    {
     "name": "stderr",
     "output_type": "stream",
     "text": [
      "/home/ricardo/Documents/MEB/AA/aaenv/lib/python3.8/site-packages/sklearn/neural_network/_multilayer_perceptron.py:702: ConvergenceWarning: Stochastic Optimizer: Maximum iterations (200) reached and the optimization hasn't converged yet.\n",
      "  warnings.warn(\n"
     ]
    }
   ],
   "source": [
    "# train and evaluate the models\n",
    "neural_net = GridSearchCV(mlp_mk, params, n_jobs=-1, cv=5)\n",
    "neural_net.fit(X_train, y_train) \n",
    "print(\"Best parameter (CV score=%0.3f):\" % neural_net.best_score_)\n",
    "print(neural_net.best_params_)"
   ]
  },
  {
   "cell_type": "code",
   "execution_count": 6,
   "id": "4c191c84",
   "metadata": {},
   "outputs": [
    {
     "name": "stdout",
     "output_type": "stream",
     "text": [
      "Results on the test set: \n",
      "              precision    recall  f1-score   support\n",
      "\n",
      "           0       0.77      0.91      0.84       357\n",
      "           1       0.60      0.34      0.43       143\n",
      "\n",
      "    accuracy                           0.75       500\n",
      "   macro avg       0.69      0.62      0.63       500\n",
      "weighted avg       0.72      0.75      0.72       500\n",
      "\n"
     ]
    }
   ],
   "source": [
    "# test the model on new data                \n",
    "y_true, y_pred = y_test , neural_net.predict(X_test)\n",
    "print('Results on the test set: ')\n",
    "print(classification_report(y_true, y_pred))"
   ]
  }
 ],
 "metadata": {
  "kernelspec": {
   "display_name": "Python 3 (ipykernel)",
   "language": "python",
   "name": "python3"
  },
  "language_info": {
   "codemirror_mode": {
    "name": "ipython",
    "version": 3
   },
   "file_extension": ".py",
   "mimetype": "text/x-python",
   "name": "python",
   "nbconvert_exporter": "python",
   "pygments_lexer": "ipython3",
   "version": "3.8.10"
  }
 },
 "nbformat": 4,
 "nbformat_minor": 5
}
