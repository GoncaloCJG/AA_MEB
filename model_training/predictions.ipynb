{
 "cells": [
  {
   "cell_type": "code",
   "execution_count": 3,
   "id": "9e5e0b23",
   "metadata": {},
   "outputs": [],
   "source": [
    "# import modules #\n",
    "import joblib\n",
    "import radiomics"
   ]
  },
  {
   "cell_type": "code",
   "execution_count": null,
   "id": "624f56f6",
   "metadata": {},
   "outputs": [],
   "source": []
  }
 ],
 "metadata": {
  "kernelspec": {
   "display_name": "aaenv",
   "language": "python",
   "name": "aaenv"
  },
  "language_info": {
   "codemirror_mode": {
    "name": "ipython",
    "version": 3
   },
   "file_extension": ".py",
   "mimetype": "text/x-python",
   "name": "python",
   "nbconvert_exporter": "python",
   "pygments_lexer": "ipython3",
   "version": "3.8.10"
  }
 },
 "nbformat": 4,
 "nbformat_minor": 5
}
