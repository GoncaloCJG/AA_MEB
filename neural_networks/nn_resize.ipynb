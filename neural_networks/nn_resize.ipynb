{
 "cells": [
  {
   "cell_type": "code",
   "execution_count": 1,
   "id": "6ac95cac",
   "metadata": {},
   "outputs": [],
   "source": [
    "### Let's build a convolutional neural network for the 3-label classification ###"
   ]
  },
  {
   "cell_type": "code",
   "execution_count": 2,
   "id": "a5238c33",
   "metadata": {
    "scrolled": true
   },
   "outputs": [],
   "source": [
    "# import modules\n",
    "import pandas as pd\n",
    "import numpy as np\n",
    "import cv2 as cv\n",
    "from IPython.display import clear_output\n",
    "import matplotlib.pyplot as plt \n",
    "import os"
   ]
  },
  {
   "cell_type": "code",
   "execution_count": 3,
   "id": "cc89f8f0",
   "metadata": {},
   "outputs": [],
   "source": [
    "# Load training data csv. The original file contains the images names and patient data\n",
    "training_data_csv = pd.read_csv('../merged_training_data.csv')\n",
    "training_data_csv.head()\n",
    "\n",
    "# Load an image and mask\n",
    "img = cv.imread('../../ISIC-2017_Training_Data/ISIC_0000100.jpg',-1) \n",
    "mask = cv.imread('../../ISIC-2017_Training_Part1_GroundTruth/ISIC_0000100_segmentation.png',-1)\n",
    "\n",
    "# Color conversion and normalization\n",
    "output_array = np.zeros((img.shape[0],img.shape[1])) # Array to store normalized image\n",
    "img = cv.cvtColor(img, cv.COLOR_BGR2RGB) \n",
    "\n",
    "## Segmentation\n",
    "segmented = cv.normalize(cv.bitwise_and(img, img, mask=mask),  output_array, 0, 255, cv.NORM_MINMAX)\n",
    "plt.imshow(segmented);"
   ]
  },
  {
   "cell_type": "code",
   "execution_count": 4,
   "id": "5eab2c6f",
   "metadata": {},
   "outputs": [],
   "source": [
    "## 0 - neither, 1 - melanoma, 2 - seborrheic keratosis\n",
    "for i,u in enumerate(training_data_csv['image_id']):\n",
    "    if training_data_csv.loc[i,'melanoma'] == 0:\n",
    "        if training_data_csv.loc[i,'seborrheic_keratosis'] == 1:\n",
    "            training_data_csv.loc[i,'melanoma'] = 2\n",
    "    else:\n",
    "        continue\n",
    "training_data_csv.drop(columns=['seborrheic_keratosis'], inplace=True)\n",
    "training_data_csv.head()"
   ]
  },
  {
   "cell_type": "code",
   "execution_count": 5,
   "id": "614ccbee",
   "metadata": {},
   "outputs": [],
   "source": [
    "half = cv.resize(segmented, (200, 200))\n",
    "plt.imshow(half)"
   ]
  },
  {
   "cell_type": "code",
   "execution_count": 6,
   "id": "a8a57d69",
   "metadata": {},
   "outputs": [],
   "source": [
    "### Segment, normalize and resize each image\n",
    "### It will also separate images from different classes in different folders\n",
    "\n",
    "im_path = '../../ISIC-2017_Training_Data/' ## CHANGE THIS VARIABLE WITH THE PATH WHERE YOU HAVE THE IMAGES\n",
    "mask_path = '../../ISIC-2017_Training_Part1_GroundTruth/' ## CHANGE THIS VARIABLE WITH THE PATH WHERE THE MAKS ARE\n",
    "\n",
    "melanoma_dir = 'melanoma/'\n",
    "seborrheic_keratosis_dir = 'seborrheic keratosis/'\n",
    "neither_dir = 'neither/'\n",
    "\n",
    "try:\n",
    "    os.mkdir('../../segmented/')\n",
    "\n",
    "    os.mkdir('../../segmented/' + melanoma_dir)\n",
    "    os.mkdir('../../segmented/' + seborrheic_keratosis_dir)\n",
    "    os.mkdir('../../segmented/' + neither_dir)\n",
    "    \n",
    "except:\n",
    "    pass\n",
    "\n",
    "try:\n",
    "    os.mkdir('../../segmented_full/')\n",
    "except:\n",
    "    pass\n",
    "    \n",
    "\n",
    "## function to segment, normalize, resize and save images\n",
    "for index, image in enumerate(training_data_csv['image_id']):\n",
    "    \n",
    "    # read\n",
    "    img = cv.imread(im_path + image + '.jpg',-1) \n",
    "    img_rgb = cv.cvtColor(img, cv.COLOR_BGR2RGB)\n",
    "    \n",
    "    # segment & resize\n",
    "    mask = cv.imread(mask_path + image + '_segmentation.png', -1)    \n",
    "    output_array = np.zeros((img.shape[0],img.shape[1])) # Array to store normalized image\n",
    "    \n",
    "    ### resize the segmented image to 150x150\n",
    "    img_segmented = cv.resize(cv.normalize(cv.bitwise_and(img_rgb, img_rgb, mask=mask),  output_array, 0, 255, cv.NORM_MINMAX),\n",
    "                              (200, 200))\n",
    "    \n",
    "    # save the images in a folder\n",
    "    if training_data_csv.loc[index,'melanoma'] == 0:\n",
    "        cv.imwrite('../../segmented/' + neither_dir + 'SEG' + image + '.jpg' , cv.cvtColor(img_segmented, cv.COLOR_RGB2BGR))\n",
    "    elif training_data_csv.loc[index,'melanoma'] == 1:\n",
    "        cv.imwrite('../../segmented/' + melanoma_dir + 'SEG' + image + '.jpg' , cv.cvtColor(img_segmented, cv.COLOR_RGB2BGR))\n",
    "    else:\n",
    "        cv.imwrite('../../segmented/' + seborrheic_keratosis_dir + 'SEG' + image + '.jpg' , cv.cvtColor(img_segmented, cv.COLOR_RGB2BGR))\n",
    "    \n",
    "    cv.imwrite('../../segmented_full/SEG' + image + '.jpg' , cv.cvtColor(img_segmented, cv.COLOR_RGB2BGR))\n",
    "    clear_output(wait=True)\n",
    "    print('Segmented image ' + str(index+1) + '/'+ str(len(training_data_csv['image_id'])) + ' saved.')\n",
    "    \n",
    "print('All images have been segmented and saved')"
   ]
  }
 ],
 "metadata": {
  "kernelspec": {
   "display_name": "aaenv",
   "language": "python",
   "name": "aaenv"
  },
  "language_info": {
   "codemirror_mode": {
    "name": "ipython",
    "version": 3
   },
   "file_extension": ".py",
   "mimetype": "text/x-python",
   "name": "python",
   "nbconvert_exporter": "python",
   "pygments_lexer": "ipython3",
   "version": "3.8.10"
  }
 },
 "nbformat": 4,
 "nbformat_minor": 5
}
