{
  "cells": [
    {
      "cell_type": "code",
      "execution_count": null,
      "id": "a0bc478c",
      "metadata": {
        "id": "a0bc478c"
      },
      "outputs": [],
      "source": [
        "import matplotlib.pyplot as plt\n",
        "import numpy as np\n",
        "\n",
        "import torch\n",
        "import torchvision\n",
        "from torchvision.utils import make_grid\n",
        "import torchvision.transforms as transforms\n",
        "import torch.nn as nn\n",
        "import torch.nn.functional as F"
      ]
    },
    {
      "cell_type": "code",
      "source": [
        "from google.colab import drive\n",
        "drive.mount('/content/drive')"
      ],
      "metadata": {
        "colab": {
          "base_uri": "https://localhost:8080/"
        },
        "id": "eRoGu-KQUxUs",
        "outputId": "a336acfb-cebf-4441-c5bd-f63ade0cb51f"
      },
      "id": "eRoGu-KQUxUs",
      "execution_count": null,
      "outputs": [
        {
          "output_type": "stream",
          "name": "stdout",
          "text": [
            "Drive already mounted at /content/drive; to attempt to forcibly remount, call drive.mount(\"/content/drive\", force_remount=True).\n"
          ]
        }
      ]
    },
    {
      "cell_type": "code",
      "source": [
        "transform = transforms.Compose([transforms.ToTensor(),\n",
        "                                transforms.RandomHorizontalFlip(),\n",
        "                                transforms.RandomVerticalFlip(),\n",
        "                                transforms.RandomRotation(85),\n",
        "                                transforms.Normalize((0.485, 0.456, 0.406), (0.229, 0.224, 0.225))])"
      ],
      "metadata": {
        "id": "LjPUTbCWzmAZ"
      },
      "id": "LjPUTbCWzmAZ",
      "execution_count": null,
      "outputs": []
    },
    {
      "cell_type": "code",
      "source": [
        "train_path = \"/content/drive/MyDrive/AA_MEB/MelVsBenign/train/\"\n",
        "val_path = \"/content/drive/MyDrive/AA_MEB/MelVsBenign/val/\"\n",
        "test_path = \"/content/drive/MyDrive/AA_MEB/MelVsBenign/test/\"\n",
        "\n",
        "train_dataset = torchvision.datasets.ImageFolder(train_path, transform = transform)\n",
        "val_dataset = torchvision.datasets.ImageFolder(val_path, transform = transform)\n",
        "test_dataset = torchvision.datasets.ImageFolder(test_path, transform = transform)"
      ],
      "metadata": {
        "id": "6PI9yHZTz3uI"
      },
      "id": "6PI9yHZTz3uI",
      "execution_count": null,
      "outputs": []
    },
    {
      "cell_type": "code",
      "execution_count": null,
      "id": "a70f63eb",
      "metadata": {
        "id": "a70f63eb"
      },
      "outputs": [],
      "source": [
        "train_loader = torch.utils.data.DataLoader(train_dataset, batch_size=32, shuffle=True, num_workers=2)\n",
        "val_loader = torch.utils.data.DataLoader(val_dataset, batch_size=32, shuffle=True, num_workers=2)\n",
        "test_loader = torch.utils.data.DataLoader(test_dataset, batch_size=32, shuffle=True, num_workers=2)"
      ]
    },
    {
      "cell_type": "code",
      "execution_count": null,
      "id": "6de6086f",
      "metadata": {
        "colab": {
          "base_uri": "https://localhost:8080/"
        },
        "id": "6de6086f",
        "outputId": "9e14123c-6321-412f-ad38-b6aff5b4e4c8"
      },
      "outputs": [
        {
          "output_type": "stream",
          "name": "stdout",
          "text": [
            "training set contains: 3122 images\n",
            "validation set contains: 150 images\n",
            "testing set contains: 600 images\n"
          ]
        }
      ],
      "source": [
        "print(\"training set contains:\", len(train_dataset), \"images\")\n",
        "print(\"validation set contains:\", len(val_dataset), \"images\")\n",
        "print(\"testing set contains:\", len(test_dataset), \"images\")"
      ]
    },
    {
      "cell_type": "code",
      "execution_count": null,
      "id": "0e1b463e",
      "metadata": {
        "colab": {
          "base_uri": "https://localhost:8080/"
        },
        "id": "0e1b463e",
        "outputId": "da3d4fdd-6d25-42f2-c492-c35b03920d6e"
      },
      "outputs": [
        {
          "output_type": "stream",
          "name": "stdout",
          "text": [
            "{'benign': 0, 'melanoma': 1}\n"
          ]
        }
      ],
      "source": [
        "print(train_dataset.class_to_idx)"
      ]
    },
    {
      "cell_type": "code",
      "execution_count": null,
      "id": "4a696e31",
      "metadata": {
        "colab": {
          "base_uri": "https://localhost:8080/"
        },
        "id": "4a696e31",
        "outputId": "4c96adc9-5709-47d3-de86-3cbeccca80e6"
      },
      "outputs": [
        {
          "output_type": "execute_result",
          "data": {
            "text/plain": [
              "torch.Size([32, 3, 200, 200])"
            ]
          },
          "metadata": {},
          "execution_count": 8
        }
      ],
      "source": [
        "images, labels = next(iter(train_loader))\n",
        "\n",
        "images.shape # [batch_size, color_channels, height, width]"
      ]
    },
    {
      "cell_type": "code",
      "execution_count": null,
      "id": "a7f83ece",
      "metadata": {
        "colab": {
          "base_uri": "https://localhost:8080/"
        },
        "id": "a7f83ece",
        "outputId": "8e2b391f-1bf0-430f-f396-366797849b79"
      },
      "outputs": [
        {
          "output_type": "stream",
          "name": "stdout",
          "text": [
            "Number of images in training set: 3122\n",
            "Number of images in test set: 150\n",
            "Number of images in test set: 600\n",
            "...\n",
            "Number of batches in the train loader: 98\n",
            "Number of batches in the test loader: 5\n",
            "Number of batches in the test loader: 19\n"
          ]
        }
      ],
      "source": [
        "print(\"Number of images in training set: {}\".format(len(train_dataset)))\n",
        "print(\"Number of images in test set: {}\".format(len(val_dataset)))\n",
        "print(\"Number of images in test set: {}\".format(len(test_dataset)))\n",
        "\n",
        "print(\"...\")\n",
        "\n",
        "print(\"Number of batches in the train loader: {}\".format(len(train_loader)))\n",
        "print(\"Number of batches in the test loader: {}\".format(len(val_loader)))\n",
        "print(\"Number of batches in the test loader: {}\".format(len(test_loader)))"
      ]
    },
    {
      "cell_type": "code",
      "execution_count": null,
      "id": "c2ca2895",
      "metadata": {
        "colab": {
          "base_uri": "https://localhost:8080/"
        },
        "id": "c2ca2895",
        "outputId": "104c6e0b-7162-4b46-84ee-00256bbd8319"
      },
      "outputs": [
        {
          "output_type": "stream",
          "name": "stdout",
          "text": [
            "GPU\n"
          ]
        }
      ],
      "source": [
        "CUDA = torch.cuda.is_available()\n",
        "\n",
        "if CUDA:\n",
        "  device = torch.device(\"cuda:0\")\n",
        "  print(\"GPU\")\n",
        "else:\n",
        "  device = torch.device(\"cpu\")\n",
        "  print(\"CPU\")"
      ]
    },
    {
      "cell_type": "code",
      "source": [
        "from torchvision import models"
      ],
      "metadata": {
        "id": "fxd_x3ydy_OY"
      },
      "id": "fxd_x3ydy_OY",
      "execution_count": null,
      "outputs": []
    },
    {
      "cell_type": "code",
      "source": [
        "model = models.resnet50(pretrained=True)\n",
        "\n",
        "for param in model.parameters():\n",
        "  param.requires_grad = False\n",
        "\n",
        "num_ftrs = model.fc.in_features\n",
        "model.fc = torch.nn.Linear(num_ftrs, 2)\n",
        "\n",
        "model = model.to(device)\n",
        "criterion = torch.nn.CrossEntropyLoss()\n",
        "optimizer = torch.optim.SGD(model.fc.parameters(), lr=0.01)"
      ],
      "metadata": {
        "colab": {
          "base_uri": "https://localhost:8080/"
        },
        "id": "WEKqGNao0e64",
        "outputId": "f06a68b5-9695-42c5-b820-f95be60ca9cb"
      },
      "id": "WEKqGNao0e64",
      "execution_count": null,
      "outputs": [
        {
          "output_type": "stream",
          "name": "stderr",
          "text": [
            "/usr/local/lib/python3.9/dist-packages/torchvision/models/_utils.py:208: UserWarning: The parameter 'pretrained' is deprecated since 0.13 and may be removed in the future, please use 'weights' instead.\n",
            "  warnings.warn(\n",
            "/usr/local/lib/python3.9/dist-packages/torchvision/models/_utils.py:223: UserWarning: Arguments other than a weight enum or `None` for 'weights' are deprecated since 0.13 and may be removed in the future. The current behavior is equivalent to passing `weights=ResNet50_Weights.IMAGENET1K_V1`. You can also use `weights=ResNet50_Weights.DEFAULT` to get the most up-to-date weights.\n",
            "  warnings.warn(msg)\n"
          ]
        }
      ]
    },
    {
      "cell_type": "markdown",
      "source": [],
      "metadata": {
        "id": "DqUTM8RUq3ls"
      },
      "id": "DqUTM8RUq3ls"
    },
    {
      "cell_type": "code",
      "execution_count": null,
      "id": "8c3a58fb",
      "metadata": {
        "id": "8c3a58fb"
      },
      "outputs": [],
      "source": [
        "def accuracy(predictions, labels):\n",
        "    classes = torch.argmax(predictions, dim=1)\n",
        "    return torch.mean((classes == labels).float())"
      ]
    },
    {
      "cell_type": "code",
      "execution_count": null,
      "id": "9f7b2bcd",
      "metadata": {
        "colab": {
          "base_uri": "https://localhost:8080/"
        },
        "id": "9f7b2bcd",
        "outputId": "44df4c2d-862e-40c5-eed6-c76e590eabd6"
      },
      "outputs": [
        {
          "output_type": "stream",
          "name": "stdout",
          "text": [
            "Epoch 1 \t\t Training Loss: 0.5957629680633545 \t\t Validation Loss: 0.47014281153678894\n",
            "Metrics \t\t Training accuracy: 0.6173823475837708 \t\t Validation accuracy: 0.7198864221572876\n",
            "Epoch 2 \t\t Training Loss: 0.42479392886161804 \t\t Validation Loss: 0.613308310508728\n",
            "Metrics \t\t Training accuracy: 0.6806972622871399 \t\t Validation accuracy: 0.8017045855522156\n",
            "Epoch 3 \t\t Training Loss: 0.6236832141876221 \t\t Validation Loss: 0.8865057229995728\n",
            "Metrics \t\t Training accuracy: 0.7275368571281433 \t\t Validation accuracy: 0.49659091234207153\n",
            "Epoch 4 \t\t Training Loss: 0.6468265056610107 \t\t Validation Loss: 0.41230908036231995\n",
            "Metrics \t\t Training accuracy: 0.7299461364746094 \t\t Validation accuracy: 0.7107954621315002\n",
            "Epoch 5 \t\t Training Loss: 0.48138755559921265 \t\t Validation Loss: 0.5295854210853577\n",
            "Metrics \t\t Training accuracy: 0.7659792900085449 \t\t Validation accuracy: 0.7948864102363586\n",
            "Epoch 6 \t\t Training Loss: 0.4996762275695801 \t\t Validation Loss: 0.4696003198623657\n",
            "Metrics \t\t Training accuracy: 0.7701246738433838 \t\t Validation accuracy: 0.6982954740524292\n",
            "Epoch 7 \t\t Training Loss: 0.6997758150100708 \t\t Validation Loss: 0.3724402189254761\n",
            "Metrics \t\t Training accuracy: 0.7631093859672546 \t\t Validation accuracy: 0.7727273106575012\n",
            "Epoch 8 \t\t Training Loss: 0.3725839853286743 \t\t Validation Loss: 0.7739297747612\n",
            "Metrics \t\t Training accuracy: 0.785041093826294 \t\t Validation accuracy: 0.6181818246841431\n",
            "Epoch 9 \t\t Training Loss: 0.31478479504585266 \t\t Validation Loss: 0.5651121735572815\n",
            "Metrics \t\t Training accuracy: 0.776856541633606 \t\t Validation accuracy: 0.7482954859733582\n",
            "Epoch 10 \t\t Training Loss: 0.4064870774745941 \t\t Validation Loss: 0.4504680633544922\n",
            "Metrics \t\t Training accuracy: 0.787521243095398 \t\t Validation accuracy: 0.7789773344993591\n",
            "Epoch 11 \t\t Training Loss: 0.3612361252307892 \t\t Validation Loss: 0.5964089035987854\n",
            "Metrics \t\t Training accuracy: 0.783942699432373 \t\t Validation accuracy: 0.7642045617103577\n",
            "Epoch 12 \t\t Training Loss: 0.7279345989227295 \t\t Validation Loss: 0.49750816822052\n",
            "Metrics \t\t Training accuracy: 0.7800807356834412 \t\t Validation accuracy: 0.7892045378684998\n",
            "Epoch 13 \t\t Training Loss: 0.7012869119644165 \t\t Validation Loss: 0.7765203714370728\n",
            "Metrics \t\t Training accuracy: 0.7793721556663513 \t\t Validation accuracy: 0.7085227370262146\n",
            "Epoch 14 \t\t Training Loss: 0.6560356020927429 \t\t Validation Loss: 0.7334781885147095\n",
            "Metrics \t\t Training accuracy: 0.7865292429924011 \t\t Validation accuracy: 0.6585227251052856\n",
            "Epoch 15 \t\t Training Loss: 0.5420653223991394 \t\t Validation Loss: 0.3009592592716217\n",
            "Metrics \t\t Training accuracy: 0.7892573475837708 \t\t Validation accuracy: 0.7289773225784302\n",
            "Epoch 16 \t\t Training Loss: 0.3404914438724518 \t\t Validation Loss: 0.30540385842323303\n",
            "Metrics \t\t Training accuracy: 0.7982921600341797 \t\t Validation accuracy: 0.7818182110786438\n",
            "Epoch 17 \t\t Training Loss: 0.450020432472229 \t\t Validation Loss: 0.6554709672927856\n",
            "Metrics \t\t Training accuracy: 0.8028982281684875 \t\t Validation accuracy: 0.7522727251052856\n",
            "Epoch 18 \t\t Training Loss: 0.4193224310874939 \t\t Validation Loss: 0.3451724350452423\n",
            "Metrics \t\t Training accuracy: 0.7903911471366882 \t\t Validation accuracy: 0.8005682229995728\n",
            "Epoch 19 \t\t Training Loss: 0.3374558687210083 \t\t Validation Loss: 0.9313703179359436\n",
            "Metrics \t\t Training accuracy: 0.7679988145828247 \t\t Validation accuracy: 0.8079546093940735\n",
            "Epoch 20 \t\t Training Loss: 0.5102774500846863 \t\t Validation Loss: 0.7801401019096375\n",
            "Metrics \t\t Training accuracy: 0.8092049360275269 \t\t Validation accuracy: 0.7392045855522156\n",
            "Epoch 21 \t\t Training Loss: 0.28260982036590576 \t\t Validation Loss: 0.6297522187232971\n",
            "Metrics \t\t Training accuracy: 0.8088151216506958 \t\t Validation accuracy: 0.7579545378684998\n",
            "Epoch 22 \t\t Training Loss: 0.6220532059669495 \t\t Validation Loss: 0.6116572022438049\n",
            "Metrics \t\t Training accuracy: 0.7997803092002869 \t\t Validation accuracy: 0.7795454859733582\n",
            "Epoch 23 \t\t Training Loss: 0.4051816761493683 \t\t Validation Loss: 0.5121963024139404\n",
            "Metrics \t\t Training accuracy: 0.7919855713844299 \t\t Validation accuracy: 0.7448863983154297\n",
            "Epoch 24 \t\t Training Loss: 0.4163430631160736 \t\t Validation Loss: 0.6771957874298096\n",
            "Metrics \t\t Training accuracy: 0.7828089594841003 \t\t Validation accuracy: 0.7982954382896423\n",
            "Epoch 25 \t\t Training Loss: 0.4505527913570404 \t\t Validation Loss: 0.5441078543663025\n",
            "Metrics \t\t Training accuracy: 0.8035359978675842 \t\t Validation accuracy: 0.7357954382896423\n"
          ]
        }
      ],
      "source": [
        "import numpy as np\n",
        "\n",
        "epochs = 25\n",
        "min_valid_loss = np.inf\n",
        "\n",
        "train_loss_values = []\n",
        "valid_loss_values = []\n",
        "train_acc = []\n",
        "val_acc = []\n",
        "\n",
        "for e in range(epochs):\n",
        "    train_loss = []\n",
        "    running_train_accuracy = 0.00\n",
        "\n",
        "    model.train()     # Optional when not using Model Specific layer\n",
        "    size = len(train_loader.dataset)\n",
        "    for data, labels in train_loader:\n",
        "        if torch.cuda.is_available():\n",
        "            data, labels = data.cuda(), labels.cuda()\n",
        "            batch, c, h, w = data.shape \n",
        "        \n",
        "        optimizer.zero_grad()\n",
        "        predictions = model(data)\n",
        "        t_loss = criterion(predictions,labels)\n",
        "        t_loss.backward()\n",
        "        optimizer.step()\n",
        "        train_loss.append(t_loss.item())\n",
        "\n",
        "        running_train_accuracy += accuracy(predictions, labels)\n",
        "\n",
        "    running_train_accuracy /= len(train_loader)\n",
        "    train_acc.append(running_train_accuracy.cpu())\n",
        "\n",
        "    train_loss_values.append(np.array(train_loss).mean())\n",
        "\n",
        "    valid_loss = []\n",
        "    \n",
        "    model.eval()     # Optional when not using Model Specific layer\n",
        "    running_val_accuracy = 0.00\n",
        "    for data, labels in val_loader:\n",
        "        if torch.cuda.is_available():\n",
        "            data, labels = data.cuda(), labels.cuda()\n",
        "        \n",
        "        predictions = model(data)\n",
        "        v_loss = criterion(predictions,labels)\n",
        "        valid_loss.append(v_loss.item())\n",
        "        running_val_accuracy += accuracy(predictions, labels)\n",
        "\n",
        "    running_val_accuracy /= len(val_loader)\n",
        "\n",
        "    valid_loss_values.append(np.array(valid_loss).mean())\n",
        "    val_acc.append(running_val_accuracy.cpu())\n",
        "\n",
        "    print(f'Epoch {e+1} \\t\\t Training Loss: {t_loss.item()} \\t\\t Validation Loss: {v_loss.item()}')\n",
        "    print(f'Metrics \\t\\t Training accuracy: {running_train_accuracy} \\t\\t Validation accuracy: {running_val_accuracy}') \n",
        "        \n",
        "        \n",
        "    # Saving State Dict\n",
        "    torch.save(model.state_dict(), '/content/drive/MyDrive/AA_MEB/v3_resnet50_model.pth')"
      ]
    },
    {
      "cell_type": "code",
      "execution_count": null,
      "id": "1b48e9c7",
      "metadata": {
        "colab": {
          "base_uri": "https://localhost:8080/",
          "height": 313
        },
        "id": "1b48e9c7",
        "outputId": "8a760dd0-23fa-48b8-d564-4b738143da56"
      },
      "outputs": [
        {
          "output_type": "execute_result",
          "data": {
            "text/plain": [
              "Text(0, 0.5, 'loss')"
            ]
          },
          "metadata": {},
          "execution_count": 15
        },
        {
          "output_type": "display_data",
          "data": {
            "text/plain": [
              "<Figure size 432x288 with 1 Axes>"
            ],
            "image/png": "[encoded data removed]"
          },
          "metadata": {
            "needs_background": "light"
          }
        }
      ],
      "source": [
        "plt.title(\"Loss over training\")\n",
        "plt.plot(train_loss_values)\n",
        "plt.plot(valid_loss_values)\n",
        "plt.legend([\"train_loss\", \"valid_loss\"])\n",
        "plt.xlabel(\"epocs\")\n",
        "plt.ylabel(\"loss\")"
      ]
    },
    {
      "cell_type": "code",
      "execution_count": null,
      "id": "e7efabf2",
      "metadata": {
        "colab": {
          "base_uri": "https://localhost:8080/",
          "height": 313
        },
        "id": "e7efabf2",
        "outputId": "29b8daed-168f-4159-ca37-73d2d35a6548"
      },
      "outputs": [
        {
          "output_type": "execute_result",
          "data": {
            "text/plain": [
              "Text(0, 0.5, 'accuracy')"
            ]
          },
          "metadata": {},
          "execution_count": 16
        },
        {
          "output_type": "display_data",
          "data": {
            "text/plain": [
              "<Figure size 432x288 with 1 Axes>"
            ],
            "image/png": "[encoded data removed]"
          },
          "metadata": {
            "needs_background": "light"
          }
        }
      ],
      "source": [
        "plt.title(\"accuracy over training\")\n",
        "plt.plot(train_acc)\n",
        "plt.plot(val_acc)\n",
        "plt.legend([\"train_acc\", \"valid_acc\"])\n",
        "plt.xlabel(\"epocs\")\n",
        "plt.ylabel(\"accuracy\")"
      ]
    },
    {
      "cell_type": "code",
      "execution_count": null,
      "id": "315926ee",
      "metadata": {
        "id": "315926ee"
      },
      "outputs": [],
      "source": [
        "from sklearn.metrics import confusion_matrix, ConfusionMatrixDisplay\n",
        "import seaborn as sns\n",
        "import pandas as pd\n",
        "import numpy as np\n",
        "from sklearn.metrics import recall_score, accuracy_score, classification_report"
      ]
    },
    {
      "cell_type": "code",
      "execution_count": null,
      "id": "06b71f97",
      "metadata": {
        "id": "06b71f97"
      },
      "outputs": [],
      "source": [
        "y_pred = []\n",
        "y_pred_prob = []\n",
        "y_true = []\n",
        "\n",
        "model = model.to(device)\n",
        "model.load_state_dict(torch.load('/content/drive/MyDrive/AA_MEB/v3_resnet50_model.pth'))\n",
        "model.eval()\n",
        "\n",
        "# iterate over test data\n",
        "for inputs, labels in test_loader:\n",
        "        inputs, labels = inputs.cuda(), labels.cuda()\n",
        "        output = model(inputs) # Feed Network\n",
        "\n",
        "        output_pred = (torch.max(torch.exp(output), 1)[1]).data.cpu().numpy()\n",
        "        y_pred.extend(output_pred)\n",
        "        output_prob = torch.softmax(output.cpu(), dim=1)[:, 1].data.cpu().numpy()\n",
        "        y_pred_prob.extend(output_prob) # Save Prediction\n",
        "        \n",
        "        labels = labels.data.cpu().numpy()\n",
        "        #labels = labels.cpu()\n",
        "        y_true.extend(labels) # Save Truth"
      ]
    },
    {
      "cell_type": "code",
      "execution_count": null,
      "id": "7409ec46",
      "metadata": {
        "colab": {
          "base_uri": "https://localhost:8080/",
          "height": 301
        },
        "id": "7409ec46",
        "outputId": "efd4acd4-f92e-4a27-cdf2-9d344b758637"
      },
      "outputs": [
        {
          "output_type": "execute_result",
          "data": {
            "text/plain": [
              "<sklearn.metrics._plot.confusion_matrix.ConfusionMatrixDisplay at 0x7f7a858e77f0>"
            ]
          },
          "metadata": {},
          "execution_count": 19
        },
        {
          "output_type": "display_data",
          "data": {
            "text/plain": [
              "<Figure size 432x288 with 2 Axes>"
            ],
            "image/png": "[encoded data removed]"
          },
          "metadata": {
            "needs_background": "light"
          }
        }
      ],
      "source": [
        "cm = confusion_matrix(y_true, y_pred)\n",
        "disp = ConfusionMatrixDisplay(confusion_matrix=cm, display_labels=train_dataset.class_to_idx)\n",
        "disp.plot()"
      ]
    },
    {
      "cell_type": "code",
      "execution_count": null,
      "id": "1dcfa296",
      "metadata": {
        "colab": {
          "base_uri": "https://localhost:8080/"
        },
        "id": "1dcfa296",
        "outputId": "51b4eaa3-02de-4b6e-dfea-bb70755feddc"
      },
      "outputs": [
        {
          "output_type": "stream",
          "name": "stdout",
          "text": [
            "              precision    recall  f1-score   support\n",
            "\n",
            "           0       0.83      0.72      0.77       483\n",
            "           1       0.26      0.39      0.31       117\n",
            "\n",
            "    accuracy                           0.66       600\n",
            "   macro avg       0.54      0.56      0.54       600\n",
            "weighted avg       0.72      0.66      0.68       600\n",
            "\n"
          ]
        }
      ],
      "source": [
        "cr = classification_report(y_true, y_pred)\n",
        "print(cr)"
      ]
    },
    {
      "cell_type": "code",
      "source": [],
      "metadata": {
        "id": "bys2SFYjUzuK"
      },
      "id": "bys2SFYjUzuK",
      "execution_count": null,
      "outputs": []
    }
  ],
  "metadata": {
    "kernelspec": {
      "display_name": "aaenv",
      "language": "python",
      "name": "aaenv"
    },
    "language_info": {
      "codemirror_mode": {
        "name": "ipython",
        "version": 3
      },
      "file_extension": ".py",
      "mimetype": "text/x-python",
      "name": "python",
      "nbconvert_exporter": "python",
      "pygments_lexer": "ipython3",
      "version": "3.8.5"
    },
    "colab": {
      "provenance": []
    },
    "accelerator": "GPU",
    "gpuClass": "standard"
  },
  "nbformat": 4,
  "nbformat_minor": 5
}