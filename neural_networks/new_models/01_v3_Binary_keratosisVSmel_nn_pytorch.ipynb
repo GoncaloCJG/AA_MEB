{
  "cells": [
    {
      "cell_type": "code",
      "execution_count": 1,
      "id": "a0bc478c",
      "metadata": {
        "id": "a0bc478c"
      },
      "outputs": [],
      "source": [
        "import matplotlib.pyplot as plt\n",
        "import numpy as np\n",
        "\n",
        "import torch\n",
        "import torchvision\n",
        "from torchvision.utils import make_grid\n",
        "import torchvision.transforms as transforms\n",
        "import torch.nn as nn\n",
        "import torch.nn.functional as F"
      ]
    },
    {
      "cell_type": "code",
      "source": [
        "from google.colab import drive\n",
        "drive.mount('/content/drive')"
      ],
      "metadata": {
        "colab": {
          "base_uri": "https://localhost:8080/"
        },
        "id": "eRoGu-KQUxUs",
        "outputId": "159f28b9-83b5-4fd2-b00f-e4642c846c6d"
      },
      "id": "eRoGu-KQUxUs",
      "execution_count": 2,
      "outputs": [
        {
          "output_type": "stream",
          "name": "stdout",
          "text": [
            "Mounted at /content/drive\n"
          ]
        }
      ]
    },
    {
      "cell_type": "code",
      "execution_count": 3,
      "id": "0948c960",
      "metadata": {
        "id": "0948c960"
      },
      "outputs": [],
      "source": [
        "transform = transforms.Compose([transforms.ToTensor()])"
      ]
    },
    {
      "cell_type": "code",
      "execution_count": 4,
      "id": "797885c1",
      "metadata": {
        "id": "797885c1"
      },
      "outputs": [],
      "source": [
        "train_path = \"/content/drive/MyDrive/AA_MEB/v3_Binary_keratosisVSmel_dataset/train/\"\n",
        "val_path = \"/content/drive/MyDrive/AA_MEB/v3_Binary_keratosisVSmel_dataset/val/\"\n",
        "test_path = \"/content/drive/MyDrive/AA_MEB/v3_Binary_keratosisVSmel_dataset/test/\"\n",
        "\n",
        "train_dataset = torchvision.datasets.ImageFolder(train_path, transform = transform)\n",
        "val_dataset = torchvision.datasets.ImageFolder(val_path, transform = transform)\n",
        "test_dataset = torchvision.datasets.ImageFolder(test_path, transform = transform)"
      ]
    },
    {
      "cell_type": "code",
      "execution_count": 5,
      "id": "a70f63eb",
      "metadata": {
        "id": "a70f63eb"
      },
      "outputs": [],
      "source": [
        "train_loader = torch.utils.data.DataLoader(train_dataset, batch_size=16, shuffle=True, num_workers=2)\n",
        "val_loader = torch.utils.data.DataLoader(val_dataset, batch_size=16, shuffle=True, num_workers=2)\n",
        "test_loader = torch.utils.data.DataLoader(test_dataset, batch_size=16, shuffle=True, num_workers=2)"
      ]
    },
    {
      "cell_type": "code",
      "execution_count": 6,
      "id": "90bc9b18",
      "metadata": {
        "id": "90bc9b18"
      },
      "outputs": [],
      "source": [
        "def get_mean_and_std(dataloader):\n",
        "    channels_sum, channels_squared_sum, num_batches = 0, 0, 0\n",
        "    for data, _ in dataloader:\n",
        "        # Mean over batch, height and width, but not over the channels\n",
        "        channels_sum += torch.mean(data, dim=[0,2,3])\n",
        "        channels_squared_sum += torch.mean(data**2, dim=[0,2,3])\n",
        "        num_batches += 1\n",
        "    \n",
        "    mean = channels_sum / num_batches\n",
        "\n",
        "    std = (channels_squared_sum / num_batches - mean ** 2) ** 0.5\n",
        "\n",
        "    return mean, std"
      ]
    },
    {
      "cell_type": "code",
      "execution_count": 7,
      "id": "b7f9de87",
      "metadata": {
        "colab": {
          "base_uri": "https://localhost:8080/"
        },
        "id": "b7f9de87",
        "outputId": "9afb6384-9358-424e-ae15-840398d784fc"
      },
      "outputs": [
        {
          "output_type": "execute_result",
          "data": {
            "text/plain": [
              "(tensor([0.1587, 0.1131, 0.0975]), tensor([0.2989, 0.2221, 0.1963]))"
            ]
          },
          "metadata": {},
          "execution_count": 7
        }
      ],
      "source": [
        "get_mean_and_std(train_loader)"
      ]
    },
    {
      "cell_type": "code",
      "execution_count": 8,
      "id": "96cd0682",
      "metadata": {
        "id": "96cd0682"
      },
      "outputs": [],
      "source": [
        "transform = transforms.Compose([transforms.ToTensor(),\n",
        "                                transforms.RandomHorizontalFlip(),\n",
        "                                transforms.RandomVerticalFlip(),\n",
        "                                transforms.RandomRotation(85),\n",
        "                                transforms.Normalize((0.1584, 0.1131, 0.0976),\n",
        "                                                     (0.2992, 0.2226, 0.1969))])"
      ]
    },
    {
      "cell_type": "code",
      "execution_count": 9,
      "id": "5bbbafae",
      "metadata": {
        "id": "5bbbafae"
      },
      "outputs": [],
      "source": [
        "train_path = \"/content/drive/MyDrive/AA_MEB/v3_Binary_keratosisVSmel_dataset/train/\"\n",
        "val_path = \"/content/drive/MyDrive/AA_MEB/v3_Binary_keratosisVSmel_dataset/val/\"\n",
        "test_path = \"/content/drive/MyDrive/AA_MEB/v3_Binary_keratosisVSmel_dataset/test/\"\n",
        "\n",
        "train_dataset = torchvision.datasets.ImageFolder(train_path, transform = transform)\n",
        "val_dataset = torchvision.datasets.ImageFolder(val_path, transform = transform)\n",
        "test_dataset = torchvision.datasets.ImageFolder(test_path, transform = transform)\n"
      ]
    },
    {
      "cell_type": "code",
      "execution_count": 10,
      "id": "86e0ec83",
      "metadata": {
        "id": "86e0ec83"
      },
      "outputs": [],
      "source": [
        "train_loader = torch.utils.data.DataLoader(train_dataset, batch_size=16, shuffle=True, num_workers=2)\n",
        "val_loader = torch.utils.data.DataLoader(val_dataset, batch_size=16, shuffle=True, num_workers=2)\n",
        "test_loader = torch.utils.data.DataLoader(test_dataset, batch_size=16, shuffle=True, num_workers=2)"
      ]
    },
    {
      "cell_type": "code",
      "execution_count": 11,
      "id": "6de6086f",
      "metadata": {
        "colab": {
          "base_uri": "https://localhost:8080/"
        },
        "id": "6de6086f",
        "outputId": "46d70336-1bf7-459a-c22e-5071cebc7685"
      },
      "outputs": [
        {
          "output_type": "stream",
          "name": "stdout",
          "text": [
            "training set contains: 502 images\n",
            "validation set contains: 62 images\n",
            "testing set contains: 64 images\n"
          ]
        }
      ],
      "source": [
        "print(\"training set contains:\", len(train_dataset), \"images\")\n",
        "print(\"validation set contains:\", len(val_dataset), \"images\")\n",
        "print(\"testing set contains:\", len(test_dataset), \"images\")"
      ]
    },
    {
      "cell_type": "code",
      "execution_count": 12,
      "id": "0e1b463e",
      "metadata": {
        "colab": {
          "base_uri": "https://localhost:8080/"
        },
        "id": "0e1b463e",
        "outputId": "6a7ca2f1-4967-444a-c2e7-af7f1a697ab2"
      },
      "outputs": [
        {
          "output_type": "stream",
          "name": "stdout",
          "text": [
            "{'keratosis': 0, 'melanoma': 1}\n"
          ]
        }
      ],
      "source": [
        "print(train_dataset.class_to_idx)"
      ]
    },
    {
      "cell_type": "code",
      "execution_count": 13,
      "id": "4a696e31",
      "metadata": {
        "colab": {
          "base_uri": "https://localhost:8080/"
        },
        "id": "4a696e31",
        "outputId": "44068485-9f2e-45f0-afdd-25c4b48335b4"
      },
      "outputs": [
        {
          "output_type": "execute_result",
          "data": {
            "text/plain": [
              "torch.Size([16, 3, 200, 200])"
            ]
          },
          "metadata": {},
          "execution_count": 13
        }
      ],
      "source": [
        "images, labels = next(iter(train_loader))\n",
        "\n",
        "images.shape # [batch_size, color_channels, height, width]"
      ]
    },
    {
      "cell_type": "code",
      "execution_count": 14,
      "id": "a7f83ece",
      "metadata": {
        "colab": {
          "base_uri": "https://localhost:8080/"
        },
        "id": "a7f83ece",
        "outputId": "22405083-c498-4317-bc58-417cbedab836"
      },
      "outputs": [
        {
          "output_type": "stream",
          "name": "stdout",
          "text": [
            "Number of images in training set: 502\n",
            "Number of images in test set: 62\n",
            "Number of images in test set: 64\n",
            "...\n",
            "Number of batches in the train loader: 32\n",
            "Number of batches in the test loader: 4\n",
            "Number of batches in the test loader: 4\n"
          ]
        }
      ],
      "source": [
        "print(\"Number of images in training set: {}\".format(len(train_dataset)))\n",
        "print(\"Number of images in test set: {}\".format(len(val_dataset)))\n",
        "print(\"Number of images in test set: {}\".format(len(test_dataset)))\n",
        "\n",
        "print(\"...\")\n",
        "\n",
        "print(\"Number of batches in the train loader: {}\".format(len(train_loader)))\n",
        "print(\"Number of batches in the test loader: {}\".format(len(val_loader)))\n",
        "print(\"Number of batches in the test loader: {}\".format(len(test_loader)))"
      ]
    },
    {
      "cell_type": "code",
      "execution_count": 15,
      "id": "a58ad913",
      "metadata": {
        "id": "a58ad913"
      },
      "outputs": [],
      "source": [
        "class CNN(nn.Module):\n",
        "    def __init__(self):\n",
        "        super(CNN, self).__init__()\n",
        "            \n",
        "        self.cnn_model = nn.Sequential(\n",
        "            nn.Conv2d(in_channels=3, out_channels=16, kernel_size=3, stride=1), # 382x382x16\n",
        "            nn.BatchNorm2d(16),\n",
        "            nn.ReLU(),\n",
        "            nn.AvgPool2d(kernel_size=2, stride=2), #191x192x16\n",
        "\n",
        "            nn.Conv2d(in_channels=16, out_channels=32, kernel_size=3, stride=1),\n",
        "            nn.BatchNorm2d(32),\n",
        "            nn.ReLU(),\n",
        "            nn.AvgPool2d(kernel_size=2, stride=2),\n",
        "        \n",
        "            nn.Conv2d(in_channels=32, out_channels=48, kernel_size=3, stride=1),\n",
        "            nn.BatchNorm2d(48),\n",
        "            nn.ReLU(),\n",
        "            nn.AvgPool2d(kernel_size=2, stride=2))\n",
        "        \n",
        "        self.fc_model = nn.Sequential(\n",
        "            nn.Linear(25392,10024),\n",
        "            nn.BatchNorm1d(10024),\n",
        "            nn.Dropout(p=0.2),\n",
        "            nn.ReLU(),\n",
        "            nn.Linear(10024,1024),\n",
        "            nn.BatchNorm1d(1024),\n",
        "            nn.Dropout(p=0.2),\n",
        "            nn.ReLU(),\n",
        "            nn.Linear(1024,2))\n",
        "\n",
        "    def forward(self, x):\n",
        "        #print(x.shape)\n",
        "        out = self.cnn_model(x)\n",
        "        #print(out.shape)\n",
        "        out = out.reshape(out.size(0), -1)\n",
        "        #nn.Flatten(),\n",
        "        #print(out.shape)\n",
        "        out = self.fc_model(out)\n",
        "        #print(out)\n",
        "        return out"
      ]
    },
    {
      "cell_type": "code",
      "execution_count": 16,
      "id": "c2ca2895",
      "metadata": {
        "colab": {
          "base_uri": "https://localhost:8080/"
        },
        "id": "c2ca2895",
        "outputId": "dae372d3-e2c1-4d52-e7a7-d8df1a0e4637"
      },
      "outputs": [
        {
          "output_type": "stream",
          "name": "stdout",
          "text": [
            "GPU\n"
          ]
        }
      ],
      "source": [
        "CUDA = torch.cuda.is_available()\n",
        "\n",
        "if CUDA:\n",
        "  device = torch.device(\"cuda:0\")\n",
        "  print(\"GPU\")\n",
        "else:\n",
        "  device = torch.device(\"cpu\")\n",
        "  print(\"CPU\")"
      ]
    },
    {
      "cell_type": "code",
      "execution_count": 17,
      "id": "e604ffdc",
      "metadata": {
        "id": "e604ffdc"
      },
      "outputs": [],
      "source": [
        "criterion=nn.CrossEntropyLoss()\n",
        "\n",
        "model = CNN().to(device)\n",
        "optimizer=torch.optim.SGD(model.parameters(), lr=1e-4)"
      ]
    },
    {
      "cell_type": "code",
      "execution_count": 18,
      "id": "8c3a58fb",
      "metadata": {
        "id": "8c3a58fb"
      },
      "outputs": [],
      "source": [
        "def accuracy(predictions, labels):\n",
        "    classes = torch.argmax(predictions, dim=1)\n",
        "    return torch.mean((classes == labels).float())"
      ]
    },
    {
      "cell_type": "code",
      "execution_count": 19,
      "id": "9f7b2bcd",
      "metadata": {
        "colab": {
          "base_uri": "https://localhost:8080/"
        },
        "id": "9f7b2bcd",
        "outputId": "0b88aaa8-b8a4-41d6-e90e-388c4cf62e92"
      },
      "outputs": [
        {
          "output_type": "stream",
          "name": "stdout",
          "text": [
            "Epoch 1 \t\t Training Loss: 0.7413504719734192 \t\t Validation Loss: 0.6854434013366699\n",
            "Metrics \t\t Training accuracy: 0.5423176884651184 \t\t Validation accuracy: 0.5647321343421936\n",
            "Epoch 2 \t\t Training Loss: 0.8420939445495605 \t\t Validation Loss: 0.6167535781860352\n",
            "Metrics \t\t Training accuracy: 0.6360676884651184 \t\t Validation accuracy: 0.6450892686843872\n",
            "Epoch 3 \t\t Training Loss: 0.537706196308136 \t\t Validation Loss: 0.5941839218139648\n",
            "Metrics \t\t Training accuracy: 0.6595051884651184 \t\t Validation accuracy: 0.6473214626312256\n",
            "Epoch 4 \t\t Training Loss: 0.6614452600479126 \t\t Validation Loss: 0.6758849024772644\n",
            "Metrics \t\t Training accuracy: 0.67578125 \t\t Validation accuracy: 0.671875\n",
            "Epoch 5 \t\t Training Loss: 0.382561057806015 \t\t Validation Loss: 0.704133152961731\n",
            "Metrics \t\t Training accuracy: 0.6920573115348816 \t\t Validation accuracy: 0.6584821343421936\n",
            "Epoch 6 \t\t Training Loss: 0.6092403531074524 \t\t Validation Loss: 0.43879321217536926\n",
            "Metrics \t\t Training accuracy: 0.6907551884651184 \t\t Validation accuracy: 0.6540178656578064\n",
            "Epoch 7 \t\t Training Loss: 0.4373060166835785 \t\t Validation Loss: 0.571863055229187\n",
            "Metrics \t\t Training accuracy: 0.7135416865348816 \t\t Validation accuracy: 0.6919642686843872\n",
            "Epoch 8 \t\t Training Loss: 0.7469797730445862 \t\t Validation Loss: 0.45005252957344055\n",
            "Metrics \t\t Training accuracy: 0.7024739384651184 \t\t Validation accuracy: 0.6339285969734192\n",
            "Epoch 9 \t\t Training Loss: 0.5687425136566162 \t\t Validation Loss: 0.5300968885421753\n",
            "Metrics \t\t Training accuracy: 0.7063801884651184 \t\t Validation accuracy: 0.6763392686843872\n",
            "Epoch 10 \t\t Training Loss: 0.6708089709281921 \t\t Validation Loss: 0.5942524671554565\n",
            "Metrics \t\t Training accuracy: 0.7415364384651184 \t\t Validation accuracy: 0.6294642686843872\n",
            "Epoch 11 \t\t Training Loss: 0.7852886319160461 \t\t Validation Loss: 0.5777376294136047\n",
            "Metrics \t\t Training accuracy: 0.6848958134651184 \t\t Validation accuracy: 0.6607142686843872\n",
            "Epoch 12 \t\t Training Loss: 0.4624638557434082 \t\t Validation Loss: 0.63344806432724\n",
            "Metrics \t\t Training accuracy: 0.7044270634651184 \t\t Validation accuracy: 0.6919642686843872\n",
            "Epoch 13 \t\t Training Loss: 0.5987488627433777 \t\t Validation Loss: 0.5408966541290283\n",
            "Metrics \t\t Training accuracy: 0.6927083134651184 \t\t Validation accuracy: 0.6919642686843872\n",
            "Epoch 14 \t\t Training Loss: 0.5915229916572571 \t\t Validation Loss: 0.5906704664230347\n",
            "Metrics \t\t Training accuracy: 0.7415364384651184 \t\t Validation accuracy: 0.6875\n",
            "Epoch 15 \t\t Training Loss: 0.6568785309791565 \t\t Validation Loss: 0.5888597369194031\n",
            "Metrics \t\t Training accuracy: 0.6927083134651184 \t\t Validation accuracy: 0.7053571343421936\n",
            "Epoch 16 \t\t Training Loss: 0.6910948157310486 \t\t Validation Loss: 0.6175661683082581\n",
            "Metrics \t\t Training accuracy: 0.7109375 \t\t Validation accuracy: 0.6272321343421936\n",
            "Epoch 17 \t\t Training Loss: 0.787929356098175 \t\t Validation Loss: 0.6094202995300293\n",
            "Metrics \t\t Training accuracy: 0.740234375 \t\t Validation accuracy: 0.6941964626312256\n",
            "Epoch 18 \t\t Training Loss: 0.6520246267318726 \t\t Validation Loss: 0.6509001851081848\n",
            "Metrics \t\t Training accuracy: 0.7220051884651184 \t\t Validation accuracy: 0.65625\n",
            "Epoch 19 \t\t Training Loss: 0.6667119860649109 \t\t Validation Loss: 0.593078076839447\n",
            "Metrics \t\t Training accuracy: 0.7317708134651184 \t\t Validation accuracy: 0.6941964626312256\n",
            "Epoch 20 \t\t Training Loss: 0.42490705847740173 \t\t Validation Loss: 0.6759616136550903\n",
            "Metrics \t\t Training accuracy: 0.7220051884651184 \t\t Validation accuracy: 0.6919642686843872\n",
            "Epoch 21 \t\t Training Loss: 0.4428640902042389 \t\t Validation Loss: 0.6229711174964905\n",
            "Metrics \t\t Training accuracy: 0.7356770634651184 \t\t Validation accuracy: 0.6763392686843872\n",
            "Epoch 22 \t\t Training Loss: 0.7025611400604248 \t\t Validation Loss: 0.44859644770622253\n",
            "Metrics \t\t Training accuracy: 0.7265625 \t\t Validation accuracy: 0.7433035969734192\n",
            "Epoch 23 \t\t Training Loss: 0.5181452631950378 \t\t Validation Loss: 0.6704385876655579\n",
            "Metrics \t\t Training accuracy: 0.7311198115348816 \t\t Validation accuracy: 0.671875\n",
            "Epoch 24 \t\t Training Loss: 0.5852189064025879 \t\t Validation Loss: 0.4718964695930481\n",
            "Metrics \t\t Training accuracy: 0.7473958134651184 \t\t Validation accuracy: 0.6808035969734192\n",
            "Epoch 25 \t\t Training Loss: 0.43264877796173096 \t\t Validation Loss: 0.6369075179100037\n",
            "Metrics \t\t Training accuracy: 0.7311198115348816 \t\t Validation accuracy: 0.6607142686843872\n",
            "Epoch 26 \t\t Training Loss: 0.47871163487434387 \t\t Validation Loss: 0.6470860838890076\n",
            "Metrics \t\t Training accuracy: 0.7486979365348816 \t\t Validation accuracy: 0.6897321343421936\n",
            "Epoch 27 \t\t Training Loss: 0.6155690550804138 \t\t Validation Loss: 0.5967468619346619\n",
            "Metrics \t\t Training accuracy: 0.7194010615348816 \t\t Validation accuracy: 0.6428571343421936\n",
            "Epoch 28 \t\t Training Loss: 0.7804344296455383 \t\t Validation Loss: 0.45639798045158386\n",
            "Metrics \t\t Training accuracy: 0.7265625 \t\t Validation accuracy: 0.7299107313156128\n",
            "Epoch 29 \t\t Training Loss: 0.8080459237098694 \t\t Validation Loss: 0.6543933749198914\n",
            "Metrics \t\t Training accuracy: 0.708984375 \t\t Validation accuracy: 0.7566964626312256\n",
            "Epoch 30 \t\t Training Loss: 0.4172714650630951 \t\t Validation Loss: 0.5654283165931702\n",
            "Metrics \t\t Training accuracy: 0.7486979365348816 \t\t Validation accuracy: 0.6919642686843872\n",
            "Epoch 31 \t\t Training Loss: 0.6935184001922607 \t\t Validation Loss: 0.6163888573646545\n",
            "Metrics \t\t Training accuracy: 0.724609375 \t\t Validation accuracy: 0.6897321343421936\n",
            "Epoch 32 \t\t Training Loss: 1.1293480396270752 \t\t Validation Loss: 0.47815677523612976\n",
            "Metrics \t\t Training accuracy: 0.751953125 \t\t Validation accuracy: 0.7120535969734192\n",
            "Epoch 33 \t\t Training Loss: 0.3773370087146759 \t\t Validation Loss: 0.5335580706596375\n",
            "Metrics \t\t Training accuracy: 0.7630208134651184 \t\t Validation accuracy: 0.6607142686843872\n",
            "Epoch 34 \t\t Training Loss: 0.44166243076324463 \t\t Validation Loss: 0.6006049513816833\n",
            "Metrics \t\t Training accuracy: 0.7584635615348816 \t\t Validation accuracy: 0.7075892686843872\n",
            "Epoch 35 \t\t Training Loss: 0.4599672555923462 \t\t Validation Loss: 0.5245043039321899\n",
            "Metrics \t\t Training accuracy: 0.7330729365348816 \t\t Validation accuracy: 0.6629464626312256\n",
            "Epoch 36 \t\t Training Loss: 0.5869743227958679 \t\t Validation Loss: 0.7644941210746765\n",
            "Metrics \t\t Training accuracy: 0.7493489384651184 \t\t Validation accuracy: 0.7008928656578064\n",
            "Epoch 37 \t\t Training Loss: 0.3849724233150482 \t\t Validation Loss: 0.5153444409370422\n",
            "Metrics \t\t Training accuracy: 0.7545573115348816 \t\t Validation accuracy: 0.6629464626312256\n",
            "Epoch 38 \t\t Training Loss: 0.2699200212955475 \t\t Validation Loss: 0.4908444285392761\n",
            "Metrics \t\t Training accuracy: 0.755859375 \t\t Validation accuracy: 0.6495535969734192\n",
            "Epoch 39 \t\t Training Loss: 0.4585539400577545 \t\t Validation Loss: 0.546082615852356\n",
            "Metrics \t\t Training accuracy: 0.7643229365348816 \t\t Validation accuracy: 0.6629464626312256\n",
            "Epoch 40 \t\t Training Loss: 0.3358429968357086 \t\t Validation Loss: 0.6111800074577332\n",
            "Metrics \t\t Training accuracy: 0.7239583134651184 \t\t Validation accuracy: 0.6919642686843872\n",
            "Epoch 41 \t\t Training Loss: 0.4290989637374878 \t\t Validation Loss: 0.3961043953895569\n",
            "Metrics \t\t Training accuracy: 0.763671875 \t\t Validation accuracy: 0.6808035969734192\n",
            "Epoch 42 \t\t Training Loss: 0.6259148716926575 \t\t Validation Loss: 0.7243589758872986\n",
            "Metrics \t\t Training accuracy: 0.7526041865348816 \t\t Validation accuracy: 0.6875\n",
            "Epoch 43 \t\t Training Loss: 0.26115959882736206 \t\t Validation Loss: 0.506107747554779\n",
            "Metrics \t\t Training accuracy: 0.767578125 \t\t Validation accuracy: 0.7433035969734192\n",
            "Epoch 44 \t\t Training Loss: 0.7573406100273132 \t\t Validation Loss: 0.5640467405319214\n",
            "Metrics \t\t Training accuracy: 0.7415364384651184 \t\t Validation accuracy: 0.6473214626312256\n",
            "Epoch 45 \t\t Training Loss: 0.5437144637107849 \t\t Validation Loss: 0.5049493312835693\n",
            "Metrics \t\t Training accuracy: 0.7630208134651184 \t\t Validation accuracy: 0.6941964626312256\n"
          ]
        }
      ],
      "source": [
        "import numpy as np\n",
        "\n",
        "epochs = 45\n",
        "min_valid_loss = np.inf\n",
        "\n",
        "train_loss_values = []\n",
        "valid_loss_values = []\n",
        "train_acc = []\n",
        "val_acc = []\n",
        "\n",
        "for e in range(epochs):\n",
        "    train_loss = []\n",
        "    running_train_accuracy = 0.00\n",
        "\n",
        "    model.train()     # Optional when not using Model Specific layer\n",
        "    size = len(train_loader.dataset)\n",
        "    for data, labels in train_loader:\n",
        "        if torch.cuda.is_available():\n",
        "            data, labels = data.cuda(), labels.cuda()\n",
        "            batch, c, h, w = data.shape \n",
        "        \n",
        "        optimizer.zero_grad()\n",
        "        predictions = model(data)\n",
        "        t_loss = criterion(predictions,labels)\n",
        "        t_loss.backward()\n",
        "        optimizer.step()\n",
        "        train_loss.append(t_loss.item())\n",
        "\n",
        "        running_train_accuracy += accuracy(predictions, labels)\n",
        "\n",
        "    running_train_accuracy /= len(train_loader)\n",
        "    train_acc.append(running_train_accuracy.cpu())\n",
        "\n",
        "    train_loss_values.append(np.array(train_loss).mean())\n",
        "\n",
        "    valid_loss = []\n",
        "    \n",
        "    model.eval()     # Optional when not using Model Specific layer\n",
        "    running_val_accuracy = 0.00\n",
        "    for data, labels in val_loader:\n",
        "        if torch.cuda.is_available():\n",
        "            data, labels = data.cuda(), labels.cuda()\n",
        "        \n",
        "        predictions = model(data)\n",
        "        v_loss = criterion(predictions,labels)\n",
        "        valid_loss.append(v_loss.item())\n",
        "        running_val_accuracy += accuracy(predictions, labels)\n",
        "\n",
        "    running_val_accuracy /= len(val_loader)\n",
        "\n",
        "    valid_loss_values.append(np.array(valid_loss).mean())\n",
        "    val_acc.append(running_val_accuracy.cpu())\n",
        "\n",
        "    print(f'Epoch {e+1} \\t\\t Training Loss: {t_loss.item()} \\t\\t Validation Loss: {v_loss.item()}')\n",
        "    print(f'Metrics \\t\\t Training accuracy: {running_train_accuracy} \\t\\t Validation accuracy: {running_val_accuracy}') \n",
        "        \n",
        "        \n",
        "    # Saving State Dict\n",
        "    torch.save(model.state_dict(), '/content/drive/MyDrive/AA_MEB/01_v3_model.pth')"
      ]
    },
    {
      "cell_type": "code",
      "execution_count": 20,
      "id": "1b48e9c7",
      "metadata": {
        "colab": {
          "base_uri": "https://localhost:8080/",
          "height": 313
        },
        "id": "1b48e9c7",
        "outputId": "873273c4-640e-4125-b8e7-f0a17e547785"
      },
      "outputs": [
        {
          "output_type": "execute_result",
          "data": {
            "text/plain": [
              "Text(0, 0.5, 'loss')"
            ]
          },
          "metadata": {},
          "execution_count": 20
        },
        {
          "output_type": "display_data",
          "data": {
            "text/plain": [
              "<Figure size 432x288 with 1 Axes>"
            ],
            "image/png": "[encoded data removed]"
          },
          "metadata": {
            "needs_background": "light"
          }
        }
      ],
      "source": [
        "plt.title(\"Loss over training\")\n",
        "plt.plot(train_loss_values)\n",
        "plt.plot(valid_loss_values)\n",
        "plt.legend([\"train_loss\", \"valid_loss\"])\n",
        "plt.xlabel(\"epocs\")\n",
        "plt.ylabel(\"loss\")"
      ]
    },
    {
      "cell_type": "code",
      "execution_count": 21,
      "id": "e7efabf2",
      "metadata": {
        "colab": {
          "base_uri": "https://localhost:8080/",
          "height": 313
        },
        "id": "e7efabf2",
        "outputId": "39522fbb-a6ee-41a8-d959-c71da8b8cf71"
      },
      "outputs": [
        {
          "output_type": "execute_result",
          "data": {
            "text/plain": [
              "Text(0, 0.5, 'accuracy')"
            ]
          },
          "metadata": {},
          "execution_count": 21
        },
        {
          "output_type": "display_data",
          "data": {
            "text/plain": [
              "<Figure size 432x288 with 1 Axes>"
            ],
            "image/png": "[encoded data removed]"
          },
          "metadata": {
            "needs_background": "light"
          }
        }
      ],
      "source": [
        "plt.title(\"accuracy over training\")\n",
        "plt.plot(train_acc)\n",
        "plt.plot(val_acc)\n",
        "plt.legend([\"train_acc\", \"valid_acc\"])\n",
        "plt.xlabel(\"epocs\")\n",
        "plt.ylabel(\"accuracy\")"
      ]
    },
    {
      "cell_type": "code",
      "execution_count": 22,
      "id": "315926ee",
      "metadata": {
        "id": "315926ee"
      },
      "outputs": [],
      "source": [
        "from sklearn.metrics import confusion_matrix, ConfusionMatrixDisplay\n",
        "import seaborn as sns\n",
        "import pandas as pd\n",
        "import numpy as np\n",
        "from sklearn.metrics import recall_score, accuracy_score, classification_report"
      ]
    },
    {
      "cell_type": "code",
      "execution_count": 23,
      "id": "06b71f97",
      "metadata": {
        "id": "06b71f97"
      },
      "outputs": [],
      "source": [
        "y_pred = []\n",
        "y_pred_prob = []\n",
        "y_true = []\n",
        "\n",
        "model = CNN().to(device)\n",
        "model.load_state_dict(torch.load('/content/drive/MyDrive/AA_MEB/01_v3_model.pth'))\n",
        "model.eval()\n",
        "\n",
        "# iterate over test data\n",
        "for inputs, labels in test_loader:\n",
        "        inputs, labels = inputs.cuda(), labels.cuda()\n",
        "        output = model(inputs) # Feed Network\n",
        "\n",
        "        output_pred = (torch.max(torch.exp(output), 1)[1]).data.cpu().numpy()\n",
        "        y_pred.extend(output_pred)\n",
        "        output_prob = torch.softmax(output.cpu(), dim=1)[:, 1].data.cpu().numpy()\n",
        "        y_pred_prob.extend(output_prob) # Save Prediction\n",
        "        \n",
        "        labels = labels.data.cpu().numpy()\n",
        "        #labels = labels.cpu()\n",
        "        y_true.extend(labels) # Save Truth"
      ]
    },
    {
      "cell_type": "code",
      "execution_count": 24,
      "id": "7409ec46",
      "metadata": {
        "colab": {
          "base_uri": "https://localhost:8080/",
          "height": 297
        },
        "id": "7409ec46",
        "outputId": "0d82bb61-c5c9-492c-e01d-68ce76793d85"
      },
      "outputs": [
        {
          "output_type": "execute_result",
          "data": {
            "text/plain": [
              "<sklearn.metrics._plot.confusion_matrix.ConfusionMatrixDisplay at 0x7fdc53ee1610>"
            ]
          },
          "metadata": {},
          "execution_count": 24
        },
        {
          "output_type": "display_data",
          "data": {
            "text/plain": [
              "<Figure size 432x288 with 2 Axes>"
            ],
            "image/png": "[encoded data removed]"
          },
          "metadata": {
            "needs_background": "light"
          }
        }
      ],
      "source": [
        "cm = confusion_matrix(y_true, y_pred)\n",
        "disp = ConfusionMatrixDisplay(confusion_matrix=cm, display_labels=train_dataset.class_to_idx)\n",
        "disp.plot()"
      ]
    },
    {
      "cell_type": "code",
      "execution_count": 25,
      "id": "1dcfa296",
      "metadata": {
        "colab": {
          "base_uri": "https://localhost:8080/"
        },
        "id": "1dcfa296",
        "outputId": "eed8b453-87de-4d64-e8b3-0db2b886c3de"
      },
      "outputs": [
        {
          "output_type": "stream",
          "name": "stdout",
          "text": [
            "              precision    recall  f1-score   support\n",
            "\n",
            "           0       0.64      0.69      0.67        26\n",
            "           1       0.78      0.74      0.76        38\n",
            "\n",
            "    accuracy                           0.72        64\n",
            "   macro avg       0.71      0.71      0.71        64\n",
            "weighted avg       0.72      0.72      0.72        64\n",
            "\n"
          ]
        }
      ],
      "source": [
        "cr = classification_report(y_true, y_pred)\n",
        "print(cr)"
      ]
    },
    {
      "cell_type": "code",
      "source": [],
      "metadata": {
        "id": "bys2SFYjUzuK"
      },
      "id": "bys2SFYjUzuK",
      "execution_count": 25,
      "outputs": []
    }
  ],
  "metadata": {
    "kernelspec": {
      "display_name": "aaenv",
      "language": "python",
      "name": "aaenv"
    },
    "language_info": {
      "codemirror_mode": {
        "name": "ipython",
        "version": 3
      },
      "file_extension": ".py",
      "mimetype": "text/x-python",
      "name": "python",
      "nbconvert_exporter": "python",
      "pygments_lexer": "ipython3",
      "version": "3.8.5"
    },
    "colab": {
      "provenance": []
    },
    "accelerator": "GPU",
    "gpuClass": "standard"
  },
  "nbformat": 4,
  "nbformat_minor": 5
}