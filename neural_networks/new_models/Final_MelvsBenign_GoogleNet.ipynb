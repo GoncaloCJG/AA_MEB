{
  "cells": [
    {
      "cell_type": "code",
      "execution_count": 1,
      "id": "a0bc478c",
      "metadata": {
        "id": "a0bc478c"
      },
      "outputs": [],
      "source": [
        "import matplotlib.pyplot as plt\n",
        "import numpy as np\n",
        "\n",
        "import torch\n",
        "import torchvision\n",
        "from torchvision import models\n",
        "from torchvision.utils import make_grid\n",
        "import torchvision.transforms as transforms\n",
        "import torch.nn as nn\n",
        "import torch.nn.functional as F"
      ]
    },
    {
      "cell_type": "code",
      "source": [
        "from google.colab import drive\n",
        "drive.mount('/content/drive')"
      ],
      "metadata": {
        "colab": {
          "base_uri": "https://localhost:8080/"
        },
        "id": "eRoGu-KQUxUs",
        "outputId": "8cc6f7f5-2a3a-4c0a-bc47-1d9529212415"
      },
      "id": "eRoGu-KQUxUs",
      "execution_count": 2,
      "outputs": [
        {
          "output_type": "stream",
          "name": "stdout",
          "text": [
            "Drive already mounted at /content/drive; to attempt to forcibly remount, call drive.mount(\"/content/drive\", force_remount=True).\n"
          ]
        }
      ]
    },
    {
      "cell_type": "code",
      "source": [
        "transform = transforms.Compose([transforms.ToTensor(),\n",
        "                                transforms.RandomHorizontalFlip(),\n",
        "                                transforms.RandomVerticalFlip(),\n",
        "                                transforms.RandomRotation(85),\n",
        "                                transforms.Normalize((0.485, 0.456, 0.406), (0.229, 0.224, 0.225))])"
      ],
      "metadata": {
        "id": "X4O0ZHg_WlA9"
      },
      "id": "X4O0ZHg_WlA9",
      "execution_count": 3,
      "outputs": []
    },
    {
      "cell_type": "code",
      "execution_count": 4,
      "id": "797885c1",
      "metadata": {
        "id": "797885c1"
      },
      "outputs": [],
      "source": [
        "train_path = \"/content/drive/MyDrive/AA_MEB/MelVsBenign/train/\"\n",
        "val_path = \"/content/drive/MyDrive/AA_MEB/MelVsBenign/val/\"\n",
        "test_path = \"/content/drive/MyDrive/AA_MEB/MelVsBenign/test/\"\n",
        "\n",
        "train_dataset = torchvision.datasets.ImageFolder(train_path, transform = transform)\n",
        "val_dataset = torchvision.datasets.ImageFolder(val_path, transform = transform)\n",
        "test_dataset = torchvision.datasets.ImageFolder(test_path, transform = transform)"
      ]
    },
    {
      "cell_type": "code",
      "execution_count": 5,
      "id": "a70f63eb",
      "metadata": {
        "id": "a70f63eb"
      },
      "outputs": [],
      "source": [
        "train_loader = torch.utils.data.DataLoader(train_dataset, batch_size=32, shuffle=True, num_workers=2)\n",
        "val_loader = torch.utils.data.DataLoader(val_dataset, batch_size=32, shuffle=True, num_workers=2)\n",
        "test_loader = torch.utils.data.DataLoader(test_dataset, batch_size=32, shuffle=True, num_workers=2)"
      ]
    },
    {
      "cell_type": "code",
      "execution_count": 6,
      "id": "6de6086f",
      "metadata": {
        "colab": {
          "base_uri": "https://localhost:8080/"
        },
        "id": "6de6086f",
        "outputId": "6665ec82-87b6-4617-a828-0a1ccf9095ff"
      },
      "outputs": [
        {
          "output_type": "stream",
          "name": "stdout",
          "text": [
            "training set contains: 3122 images\n",
            "validation set contains: 150 images\n",
            "testing set contains: 600 images\n"
          ]
        }
      ],
      "source": [
        "print(\"training set contains:\", len(train_dataset), \"images\")\n",
        "print(\"validation set contains:\", len(val_dataset), \"images\")\n",
        "print(\"testing set contains:\", len(test_dataset), \"images\")"
      ]
    },
    {
      "cell_type": "code",
      "execution_count": 7,
      "id": "0e1b463e",
      "metadata": {
        "colab": {
          "base_uri": "https://localhost:8080/"
        },
        "id": "0e1b463e",
        "outputId": "30ad67f3-e6f8-4854-fd7e-a7c1970d3f40"
      },
      "outputs": [
        {
          "output_type": "stream",
          "name": "stdout",
          "text": [
            "{'benign': 0, 'melanoma': 1}\n"
          ]
        }
      ],
      "source": [
        "print(train_dataset.class_to_idx)"
      ]
    },
    {
      "cell_type": "code",
      "execution_count": 8,
      "id": "4a696e31",
      "metadata": {
        "colab": {
          "base_uri": "https://localhost:8080/"
        },
        "id": "4a696e31",
        "outputId": "206bf17f-9e13-49e9-8d61-5bff11b5c69e"
      },
      "outputs": [
        {
          "output_type": "execute_result",
          "data": {
            "text/plain": [
              "torch.Size([32, 3, 200, 200])"
            ]
          },
          "metadata": {},
          "execution_count": 8
        }
      ],
      "source": [
        "images, labels = next(iter(train_loader))\n",
        "\n",
        "images.shape # [batch_size, color_channels, height, width]"
      ]
    },
    {
      "cell_type": "code",
      "execution_count": 9,
      "id": "a7f83ece",
      "metadata": {
        "colab": {
          "base_uri": "https://localhost:8080/"
        },
        "id": "a7f83ece",
        "outputId": "0982f94e-61f9-46e9-bb5e-ab31be4b87fb"
      },
      "outputs": [
        {
          "output_type": "stream",
          "name": "stdout",
          "text": [
            "Number of images in training set: 3122\n",
            "Number of images in test set: 150\n",
            "Number of images in test set: 600\n",
            "...\n",
            "Number of batches in the train loader: 98\n",
            "Number of batches in the test loader: 5\n",
            "Number of batches in the test loader: 19\n"
          ]
        }
      ],
      "source": [
        "print(\"Number of images in training set: {}\".format(len(train_dataset)))\n",
        "print(\"Number of images in test set: {}\".format(len(val_dataset)))\n",
        "print(\"Number of images in test set: {}\".format(len(test_dataset)))\n",
        "\n",
        "print(\"...\")\n",
        "\n",
        "print(\"Number of batches in the train loader: {}\".format(len(train_loader)))\n",
        "print(\"Number of batches in the test loader: {}\".format(len(val_loader)))\n",
        "print(\"Number of batches in the test loader: {}\".format(len(test_loader)))"
      ]
    },
    {
      "cell_type": "code",
      "execution_count": 10,
      "id": "c2ca2895",
      "metadata": {
        "colab": {
          "base_uri": "https://localhost:8080/"
        },
        "id": "c2ca2895",
        "outputId": "3bbdad79-7403-40c9-92bc-df4498cb68c8"
      },
      "outputs": [
        {
          "output_type": "stream",
          "name": "stdout",
          "text": [
            "GPU\n"
          ]
        }
      ],
      "source": [
        "CUDA = torch.cuda.is_available()\n",
        "\n",
        "if CUDA:\n",
        "  device = torch.device(\"cuda:0\")\n",
        "  print(\"GPU\")\n",
        "else:\n",
        "  device = torch.device(\"cpu\")\n",
        "  print(\"CPU\")"
      ]
    },
    {
      "cell_type": "code",
      "source": [
        "model = models.googlenet(pretrained=True)\n",
        "\n",
        "for param in model.parameters():\n",
        "  param.requires_grad = False\n",
        "\n",
        "num_ftrs = model.fc.in_features\n",
        "model.fc = torch.nn.Linear(num_ftrs, 2)\n",
        "\n",
        "model = model.to(device)\n",
        "criterion = torch.nn.CrossEntropyLoss()\n",
        "optimizer = torch.optim.SGD(model.fc.parameters(), lr=0.001)"
      ],
      "metadata": {
        "colab": {
          "base_uri": "https://localhost:8080/",
          "height": 158,
          "referenced_widgets": [
            "f64ca5416fdf414f88cddff2b3028c8b",
            "1f5b90ed77334197ba53257db7f7affc",
            "3a56d1a7335045759b2b7eaab191ba7f",
            "e73fe151a86f44bda8997183fab791c7",
            "ac8c198778094ba69816a15e85cd3f30",
            "3f89fcc2ed564d3daee5d1c3cbeb789d",
            "1ef169b88b9c42b58ccdb201cb47ec23",
            "aef92b53c8d1454f85ebafdbd6f848b9",
            "8c59aaf1ca064d01896f230fb418a42b",
            "1e3e4dbbf05c4bef8cb76210b3d95fb8",
            "46dd8761e1c047278a8d0070e109549a"
          ]
        },
        "id": "WEKqGNao0e64",
        "outputId": "3a7d4ef7-39cf-4cc3-9286-0450d8f198ab"
      },
      "id": "WEKqGNao0e64",
      "execution_count": 11,
      "outputs": [
        {
          "output_type": "stream",
          "name": "stderr",
          "text": [
            "/usr/local/lib/python3.9/dist-packages/torchvision/models/_utils.py:208: UserWarning: The parameter 'pretrained' is deprecated since 0.13 and may be removed in the future, please use 'weights' instead.\n",
            "  warnings.warn(\n",
            "/usr/local/lib/python3.9/dist-packages/torchvision/models/_utils.py:223: UserWarning: Arguments other than a weight enum or `None` for 'weights' are deprecated since 0.13 and may be removed in the future. The current behavior is equivalent to passing `weights=GoogLeNet_Weights.IMAGENET1K_V1`. You can also use `weights=GoogLeNet_Weights.DEFAULT` to get the most up-to-date weights.\n",
            "  warnings.warn(msg)\n",
            "Downloading: \"https://download.pytorch.org/models/googlenet-1378be20.pth\" to /root/.cache/torch/hub/checkpoints/googlenet-1378be20.pth\n"
          ]
        },
        {
          "output_type": "display_data",
          "data": {
            "text/plain": [
              "  0%|          | 0.00/49.7M [00:00<?, ?B/s]"
            ],
            "application/vnd.jupyter.widget-view+json": {
              "version_major": 2,
              "version_minor": 0,
              "model_id": "f64ca5416fdf414f88cddff2b3028c8b"
            }
          },
          "metadata": {}
        }
      ]
    },
    {
      "cell_type": "code",
      "execution_count": 12,
      "id": "8c3a58fb",
      "metadata": {
        "id": "8c3a58fb"
      },
      "outputs": [],
      "source": [
        "def accuracy(predictions, labels):\n",
        "    classes = torch.argmax(predictions, dim=1)\n",
        "    return torch.mean((classes == labels).float())"
      ]
    },
    {
      "cell_type": "code",
      "execution_count": 13,
      "id": "9f7b2bcd",
      "metadata": {
        "colab": {
          "base_uri": "https://localhost:8080/"
        },
        "id": "9f7b2bcd",
        "outputId": "51c2eeeb-b92d-4c79-b01e-8e21a17d4022"
      },
      "outputs": [
        {
          "output_type": "stream",
          "name": "stdout",
          "text": [
            "Epoch 1 \t\t Training Loss: 0.6469789147377014 \t\t Validation Loss: 0.7241345047950745\n",
            "Metrics \t\t Training accuracy: 0.5302579402923584 \t\t Validation accuracy: 0.6863636374473572\n",
            "Epoch 2 \t\t Training Loss: 0.6172587871551514 \t\t Validation Loss: 0.4999108612537384\n",
            "Metrics \t\t Training accuracy: 0.6235827207565308 \t\t Validation accuracy: 0.7289773225784302\n",
            "Epoch 3 \t\t Training Loss: 0.5824337601661682 \t\t Validation Loss: 0.6761177778244019\n",
            "Metrics \t\t Training accuracy: 0.6782171130180359 \t\t Validation accuracy: 0.7267045378684998\n",
            "Epoch 4 \t\t Training Loss: 0.5845434665679932 \t\t Validation Loss: 0.5885996222496033\n",
            "Metrics \t\t Training accuracy: 0.6829648613929749 \t\t Validation accuracy: 0.7142045497894287\n",
            "Epoch 5 \t\t Training Loss: 0.5917591452598572 \t\t Validation Loss: 0.6005571484565735\n",
            "Metrics \t\t Training accuracy: 0.6886692047119141 \t\t Validation accuracy: 0.7022727131843567\n",
            "Epoch 6 \t\t Training Loss: 0.5319902896881104 \t\t Validation Loss: 0.5656918883323669\n",
            "Metrics \t\t Training accuracy: 0.7147108316421509 \t\t Validation accuracy: 0.7017045617103577\n",
            "Epoch 7 \t\t Training Loss: 0.6779103875160217 \t\t Validation Loss: 0.5258806347846985\n",
            "Metrics \t\t Training accuracy: 0.7029833197593689 \t\t Validation accuracy: 0.680113673210144\n",
            "Epoch 8 \t\t Training Loss: 0.610479474067688 \t\t Validation Loss: 0.6140195727348328\n",
            "Metrics \t\t Training accuracy: 0.7184665203094482 \t\t Validation accuracy: 0.6806818246841431\n",
            "Epoch 9 \t\t Training Loss: 0.5334407687187195 \t\t Validation Loss: 0.43553268909454346\n",
            "Metrics \t\t Training accuracy: 0.7198837995529175 \t\t Validation accuracy: 0.7267045378684998\n",
            "Epoch 10 \t\t Training Loss: 0.667561411857605 \t\t Validation Loss: 0.47909924387931824\n",
            "Metrics \t\t Training accuracy: 0.7254464030265808 \t\t Validation accuracy: 0.6954545378684998\n",
            "Epoch 11 \t\t Training Loss: 0.7000718712806702 \t\t Validation Loss: 0.5141144394874573\n",
            "Metrics \t\t Training accuracy: 0.7320011258125305 \t\t Validation accuracy: 0.6982954740524292\n",
            "Epoch 12 \t\t Training Loss: 0.6354995965957642 \t\t Validation Loss: 0.5496294498443604\n",
            "Metrics \t\t Training accuracy: 0.7374220490455627 \t\t Validation accuracy: 0.7051136493682861\n",
            "Epoch 13 \t\t Training Loss: 0.5280745029449463 \t\t Validation Loss: 0.4253297746181488\n",
            "Metrics \t\t Training accuracy: 0.7439767122268677 \t\t Validation accuracy: 0.7357954382896423\n",
            "Epoch 14 \t\t Training Loss: 0.4874533414840698 \t\t Validation Loss: 0.6133477687835693\n",
            "Metrics \t\t Training accuracy: 0.7451813817024231 \t\t Validation accuracy: 0.6710227131843567\n",
            "Epoch 15 \t\t Training Loss: 0.5179862976074219 \t\t Validation Loss: 0.6147803664207458\n",
            "Metrics \t\t Training accuracy: 0.7455002665519714 \t\t Validation accuracy: 0.7329545617103577\n",
            "Epoch 16 \t\t Training Loss: 0.5046643614768982 \t\t Validation Loss: 0.49159547686576843\n",
            "Metrics \t\t Training accuracy: 0.7548185586929321 \t\t Validation accuracy: 0.7232954502105713\n",
            "Epoch 17 \t\t Training Loss: 0.5044887065887451 \t\t Validation Loss: 0.3794623613357544\n",
            "Metrics \t\t Training accuracy: 0.7538619637489319 \t\t Validation accuracy: 0.7602273225784302\n",
            "Epoch 18 \t\t Training Loss: 0.5494450926780701 \t\t Validation Loss: 0.5500949025154114\n",
            "Metrics \t\t Training accuracy: 0.7554563283920288 \t\t Validation accuracy: 0.6931818127632141\n",
            "Epoch 19 \t\t Training Loss: 0.5041447281837463 \t\t Validation Loss: 0.520834743976593\n",
            "Metrics \t\t Training accuracy: 0.747732400894165 \t\t Validation accuracy: 0.7204545736312866\n",
            "Epoch 20 \t\t Training Loss: 0.4895990788936615 \t\t Validation Loss: 0.5597933530807495\n",
            "Metrics \t\t Training accuracy: 0.7407879829406738 \t\t Validation accuracy: 0.7051136493682861\n",
            "Epoch 21 \t\t Training Loss: 0.6519861817359924 \t\t Validation Loss: 0.4366570711135864\n",
            "Metrics \t\t Training accuracy: 0.7560940980911255 \t\t Validation accuracy: 0.7107954621315002\n",
            "Epoch 22 \t\t Training Loss: 0.46757078170776367 \t\t Validation Loss: 0.5724061727523804\n",
            "Metrics \t\t Training accuracy: 0.7582553625106812 \t\t Validation accuracy: 0.699431836605072\n",
            "Epoch 23 \t\t Training Loss: 0.4698343276977539 \t\t Validation Loss: 0.8011167645454407\n",
            "Metrics \t\t Training accuracy: 0.7652707099914551 \t\t Validation accuracy: 0.7153409123420715\n",
            "Epoch 24 \t\t Training Loss: 0.3785066604614258 \t\t Validation Loss: 0.4765811860561371\n",
            "Metrics \t\t Training accuracy: 0.7664044499397278 \t\t Validation accuracy: 0.6767045855522156\n",
            "Epoch 25 \t\t Training Loss: 0.5444671511650085 \t\t Validation Loss: 0.4508320093154907\n",
            "Metrics \t\t Training accuracy: 0.7637471556663513 \t\t Validation accuracy: 0.7102273106575012\n"
          ]
        }
      ],
      "source": [
        "epochs = 25\n",
        "min_valid_loss = np.inf\n",
        "\n",
        "train_loss_values = []\n",
        "valid_loss_values = []\n",
        "train_acc = []\n",
        "val_acc = []\n",
        "\n",
        "for e in range(epochs):\n",
        "    train_loss = []\n",
        "    running_train_accuracy = 0.00\n",
        "\n",
        "    model.train()     # Optional when not using Model Specific layer\n",
        "    size = len(train_loader.dataset)\n",
        "    for data, labels in train_loader:\n",
        "        if torch.cuda.is_available():\n",
        "            data, labels = data.cuda(), labels.cuda()\n",
        "            batch, c, h, w = data.shape \n",
        "        \n",
        "        optimizer.zero_grad()\n",
        "        predictions = model(data)\n",
        "        t_loss = criterion(predictions,labels)\n",
        "        t_loss.backward()\n",
        "        optimizer.step()\n",
        "        train_loss.append(t_loss.item())\n",
        "\n",
        "        running_train_accuracy += accuracy(predictions, labels)\n",
        "\n",
        "    running_train_accuracy /= len(train_loader)\n",
        "    train_acc.append(running_train_accuracy.cpu())\n",
        "\n",
        "    train_loss_values.append(np.array(train_loss).mean())\n",
        "\n",
        "    valid_loss = []\n",
        "    \n",
        "    model.eval()     # Optional when not using Model Specific layer\n",
        "    running_val_accuracy = 0.00\n",
        "    for data, labels in val_loader:\n",
        "        if torch.cuda.is_available():\n",
        "            data, labels = data.cuda(), labels.cuda()\n",
        "        \n",
        "        predictions = model(data)\n",
        "        v_loss = criterion(predictions,labels)\n",
        "        valid_loss.append(v_loss.item())\n",
        "        running_val_accuracy += accuracy(predictions, labels)\n",
        "\n",
        "    running_val_accuracy /= len(val_loader)\n",
        "\n",
        "    valid_loss_values.append(np.array(valid_loss).mean())\n",
        "    val_acc.append(running_val_accuracy.cpu())\n",
        "\n",
        "    print(f'Epoch {e+1} \\t\\t Training Loss: {t_loss.item()} \\t\\t Validation Loss: {v_loss.item()}')\n",
        "    print(f'Metrics \\t\\t Training accuracy: {running_train_accuracy} \\t\\t Validation accuracy: {running_val_accuracy}') \n",
        "        \n",
        "        \n",
        "    # Saving State Dict\n",
        "    torch.save(model.state_dict(), '/content/drive/MyDrive/AA_MEB/v3_googlenet_model.pth')"
      ]
    },
    {
      "cell_type": "code",
      "execution_count": 14,
      "id": "1b48e9c7",
      "metadata": {
        "colab": {
          "base_uri": "https://localhost:8080/",
          "height": 313
        },
        "id": "1b48e9c7",
        "outputId": "170ac8c4-7b8a-4125-b1cf-2f7cca32b10f"
      },
      "outputs": [
        {
          "output_type": "execute_result",
          "data": {
            "text/plain": [
              "Text(0, 0.5, 'loss')"
            ]
          },
          "metadata": {},
          "execution_count": 14
        },
        {
          "output_type": "display_data",
          "data": {
            "text/plain": [
              "<Figure size 432x288 with 1 Axes>"
            ],
            "image/png": "[encoded data removed]"
          },
          "metadata": {
            "needs_background": "light"
          }
        }
      ],
      "source": [
        "plt.title(\"Loss over training\")\n",
        "plt.plot(train_loss_values)\n",
        "plt.plot(valid_loss_values)\n",
        "plt.legend([\"train_loss\", \"valid_loss\"])\n",
        "plt.xlabel(\"epocs\")\n",
        "plt.ylabel(\"loss\")"
      ]
    },
    {
      "cell_type": "code",
      "execution_count": 15,
      "id": "e7efabf2",
      "metadata": {
        "colab": {
          "base_uri": "https://localhost:8080/",
          "height": 313
        },
        "id": "e7efabf2",
        "outputId": "42af705a-5d12-403e-e0e6-c32a739be63d"
      },
      "outputs": [
        {
          "output_type": "execute_result",
          "data": {
            "text/plain": [
              "Text(0, 0.5, 'accuracy')"
            ]
          },
          "metadata": {},
          "execution_count": 15
        },
        {
          "output_type": "display_data",
          "data": {
            "text/plain": [
              "<Figure size 432x288 with 1 Axes>"
            ],
            "image/png": "[encoded data removed]"
          },
          "metadata": {
            "needs_background": "light"
          }
        }
      ],
      "source": [
        "plt.title(\"accuracy over training\")\n",
        "plt.plot(train_acc)\n",
        "plt.plot(val_acc)\n",
        "plt.legend([\"train_acc\", \"valid_acc\"])\n",
        "plt.xlabel(\"epocs\")\n",
        "plt.ylabel(\"accuracy\")"
      ]
    },
    {
      "cell_type": "code",
      "execution_count": 16,
      "id": "315926ee",
      "metadata": {
        "id": "315926ee"
      },
      "outputs": [],
      "source": [
        "from sklearn.metrics import confusion_matrix, ConfusionMatrixDisplay\n",
        "import seaborn as sns\n",
        "import pandas as pd\n",
        "import numpy as np\n",
        "from sklearn.metrics import recall_score, accuracy_score, classification_report"
      ]
    },
    {
      "cell_type": "code",
      "execution_count": 18,
      "id": "06b71f97",
      "metadata": {
        "id": "06b71f97"
      },
      "outputs": [],
      "source": [
        "y_pred = []\n",
        "y_pred_prob = []\n",
        "y_true = []\n",
        "\n",
        "model = model.to(device)\n",
        "model.load_state_dict(torch.load('/content/drive/MyDrive/AA_MEB/v3_googlenet_model.pth'))\n",
        "model.eval()\n",
        "\n",
        "# iterate over test data\n",
        "for inputs, labels in test_loader:\n",
        "        inputs, labels = inputs.cuda(), labels.cuda()\n",
        "        output = model(inputs) # Feed Network\n",
        "\n",
        "        output_pred = (torch.max(torch.exp(output), 1)[1]).data.cpu().numpy()\n",
        "        y_pred.extend(output_pred)\n",
        "        output_prob = torch.softmax(output.cpu(), dim=1)[:, 1].data.cpu().numpy()\n",
        "        y_pred_prob.extend(output_prob) # Save Prediction\n",
        "        \n",
        "        labels = labels.data.cpu().numpy()\n",
        "        #labels = labels.cpu()\n",
        "        y_true.extend(labels) # Save Truth"
      ]
    },
    {
      "cell_type": "code",
      "execution_count": 19,
      "id": "7409ec46",
      "metadata": {
        "colab": {
          "base_uri": "https://localhost:8080/",
          "height": 297
        },
        "id": "7409ec46",
        "outputId": "5ea895a4-1646-4a54-8ce7-62b217343783"
      },
      "outputs": [
        {
          "output_type": "execute_result",
          "data": {
            "text/plain": [
              "<sklearn.metrics._plot.confusion_matrix.ConfusionMatrixDisplay at 0x7fb29080bbb0>"
            ]
          },
          "metadata": {},
          "execution_count": 19
        },
        {
          "output_type": "display_data",
          "data": {
            "text/plain": [
              "<Figure size 432x288 with 2 Axes>"
            ],
            "image/png": "[encoded data removed]"
          },
          "metadata": {
            "needs_background": "light"
          }
        }
      ],
      "source": [
        "cm = confusion_matrix(y_true, y_pred)\n",
        "disp = ConfusionMatrixDisplay(confusion_matrix=cm, display_labels=train_dataset.class_to_idx)\n",
        "disp.plot()"
      ]
    },
    {
      "cell_type": "code",
      "execution_count": 20,
      "id": "1dcfa296",
      "metadata": {
        "colab": {
          "base_uri": "https://localhost:8080/"
        },
        "id": "1dcfa296",
        "outputId": "603e1234-651c-422d-f9cb-63fab5bb7d65"
      },
      "outputs": [
        {
          "output_type": "stream",
          "name": "stdout",
          "text": [
            "              precision    recall  f1-score   support\n",
            "\n",
            "           0       0.83      0.69      0.75       483\n",
            "           1       0.25      0.43      0.32       117\n",
            "\n",
            "    accuracy                           0.64       600\n",
            "   macro avg       0.54      0.56      0.53       600\n",
            "weighted avg       0.72      0.64      0.67       600\n",
            "\n"
          ]
        }
      ],
      "source": [
        "cr = classification_report(y_true, y_pred)\n",
        "print(cr)"
      ]
    },
    {
      "cell_type": "code",
      "source": [],
      "metadata": {
        "id": "bys2SFYjUzuK"
      },
      "id": "bys2SFYjUzuK",
      "execution_count": null,
      "outputs": []
    }
  ],
  "metadata": {
    "kernelspec": {
      "display_name": "aaenv",
      "language": "python",
      "name": "aaenv"
    },
    "language_info": {
      "codemirror_mode": {
        "name": "ipython",
        "version": 3
      },
      "file_extension": ".py",
      "mimetype": "text/x-python",
      "name": "python",
      "nbconvert_exporter": "python",
      "pygments_lexer": "ipython3",
      "version": "3.8.5"
    },
    "colab": {
      "provenance": []
    },
    "gpuClass": "standard",
    "accelerator": "GPU",
    "widgets": {
      "application/vnd.jupyter.widget-state+json": {
        "f64ca5416fdf414f88cddff2b3028c8b": {
          "model_module": "@jupyter-widgets/controls",
          "model_name": "HBoxModel",
          "model_module_version": "1.5.0",
          "state": {
            "_dom_classes": [],
            "_model_module": "@jupyter-widgets/controls",
            "_model_module_version": "1.5.0",
            "_model_name": "HBoxModel",
            "_view_count": null,
            "_view_module": "@jupyter-widgets/controls",
            "_view_module_version": "1.5.0",
            "_view_name": "HBoxView",
            "box_style": "",
            "children": [
              "IPY_MODEL_1f5b90ed77334197ba53257db7f7affc",
              "IPY_MODEL_3a56d1a7335045759b2b7eaab191ba7f",
              "IPY_MODEL_e73fe151a86f44bda8997183fab791c7"
            ],
            "layout": "IPY_MODEL_ac8c198778094ba69816a15e85cd3f30"
          }
        },
        "1f5b90ed77334197ba53257db7f7affc": {
          "model_module": "@jupyter-widgets/controls",
          "model_name": "HTMLModel",
          "model_module_version": "1.5.0",
          "state": {
            "_dom_classes": [],
            "_model_module": "@jupyter-widgets/controls",
            "_model_module_version": "1.5.0",
            "_model_name": "HTMLModel",
            "_view_count": null,
            "_view_module": "@jupyter-widgets/controls",
            "_view_module_version": "1.5.0",
            "_view_name": "HTMLView",
            "description": "",
            "description_tooltip": null,
            "layout": "IPY_MODEL_3f89fcc2ed564d3daee5d1c3cbeb789d",
            "placeholder": "​",
            "style": "IPY_MODEL_1ef169b88b9c42b58ccdb201cb47ec23",
            "value": "100%"
          }
        },
        "3a56d1a7335045759b2b7eaab191ba7f": {
          "model_module": "@jupyter-widgets/controls",
          "model_name": "FloatProgressModel",
          "model_module_version": "1.5.0",
          "state": {
            "_dom_classes": [],
            "_model_module": "@jupyter-widgets/controls",
            "_model_module_version": "1.5.0",
            "_model_name": "FloatProgressModel",
            "_view_count": null,
            "_view_module": "@jupyter-widgets/controls",
            "_view_module_version": "1.5.0",
            "_view_name": "ProgressView",
            "bar_style": "success",
            "description": "",
            "description_tooltip": null,
            "layout": "IPY_MODEL_aef92b53c8d1454f85ebafdbd6f848b9",
            "max": 52147035,
            "min": 0,
            "orientation": "horizontal",
            "style": "IPY_MODEL_8c59aaf1ca064d01896f230fb418a42b",
            "value": 52147035
          }
        },
        "e73fe151a86f44bda8997183fab791c7": {
          "model_module": "@jupyter-widgets/controls",
          "model_name": "HTMLModel",
          "model_module_version": "1.5.0",
          "state": {
            "_dom_classes": [],
            "_model_module": "@jupyter-widgets/controls",
            "_model_module_version": "1.5.0",
            "_model_name": "HTMLModel",
            "_view_count": null,
            "_view_module": "@jupyter-widgets/controls",
            "_view_module_version": "1.5.0",
            "_view_name": "HTMLView",
            "description": "",
            "description_tooltip": null,
            "layout": "IPY_MODEL_1e3e4dbbf05c4bef8cb76210b3d95fb8",
            "placeholder": "​",
            "style": "IPY_MODEL_46dd8761e1c047278a8d0070e109549a",
            "value": " 49.7M/49.7M [00:00&lt;00:00, 72.1MB/s]"
          }
        },
        "ac8c198778094ba69816a15e85cd3f30": {
          "model_module": "@jupyter-widgets/base",
          "model_name": "LayoutModel",
          "model_module_version": "1.2.0",
          "state": {
            "_model_module": "@jupyter-widgets/base",
            "_model_module_version": "1.2.0",
            "_model_name": "LayoutModel",
            "_view_count": null,
            "_view_module": "@jupyter-widgets/base",
            "_view_module_version": "1.2.0",
            "_view_name": "LayoutView",
            "align_content": null,
            "align_items": null,
            "align_self": null,
            "border": null,
            "bottom": null,
            "display": null,
            "flex": null,
            "flex_flow": null,
            "grid_area": null,
            "grid_auto_columns": null,
            "grid_auto_flow": null,
            "grid_auto_rows": null,
            "grid_column": null,
            "grid_gap": null,
            "grid_row": null,
            "grid_template_areas": null,
            "grid_template_columns": null,
            "grid_template_rows": null,
            "height": null,
            "justify_content": null,
            "justify_items": null,
            "left": null,
            "margin": null,
            "max_height": null,
            "max_width": null,
            "min_height": null,
            "min_width": null,
            "object_fit": null,
            "object_position": null,
            "order": null,
            "overflow": null,
            "overflow_x": null,
            "overflow_y": null,
            "padding": null,
            "right": null,
            "top": null,
            "visibility": null,
            "width": null
          }
        },
        "3f89fcc2ed564d3daee5d1c3cbeb789d": {
          "model_module": "@jupyter-widgets/base",
          "model_name": "LayoutModel",
          "model_module_version": "1.2.0",
          "state": {
            "_model_module": "@jupyter-widgets/base",
            "_model_module_version": "1.2.0",
            "_model_name": "LayoutModel",
            "_view_count": null,
            "_view_module": "@jupyter-widgets/base",
            "_view_module_version": "1.2.0",
            "_view_name": "LayoutView",
            "align_content": null,
            "align_items": null,
            "align_self": null,
            "border": null,
            "bottom": null,
            "display": null,
            "flex": null,
            "flex_flow": null,
            "grid_area": null,
            "grid_auto_columns": null,
            "grid_auto_flow": null,
            "grid_auto_rows": null,
            "grid_column": null,
            "grid_gap": null,
            "grid_row": null,
            "grid_template_areas": null,
            "grid_template_columns": null,
            "grid_template_rows": null,
            "height": null,
            "justify_content": null,
            "justify_items": null,
            "left": null,
            "margin": null,
            "max_height": null,
            "max_width": null,
            "min_height": null,
            "min_width": null,
            "object_fit": null,
            "object_position": null,
            "order": null,
            "overflow": null,
            "overflow_x": null,
            "overflow_y": null,
            "padding": null,
            "right": null,
            "top": null,
            "visibility": null,
            "width": null
          }
        },
        "1ef169b88b9c42b58ccdb201cb47ec23": {
          "model_module": "@jupyter-widgets/controls",
          "model_name": "DescriptionStyleModel",
          "model_module_version": "1.5.0",
          "state": {
            "_model_module": "@jupyter-widgets/controls",
            "_model_module_version": "1.5.0",
            "_model_name": "DescriptionStyleModel",
            "_view_count": null,
            "_view_module": "@jupyter-widgets/base",
            "_view_module_version": "1.2.0",
            "_view_name": "StyleView",
            "description_width": ""
          }
        },
        "aef92b53c8d1454f85ebafdbd6f848b9": {
          "model_module": "@jupyter-widgets/base",
          "model_name": "LayoutModel",
          "model_module_version": "1.2.0",
          "state": {
            "_model_module": "@jupyter-widgets/base",
            "_model_module_version": "1.2.0",
            "_model_name": "LayoutModel",
            "_view_count": null,
            "_view_module": "@jupyter-widgets/base",
            "_view_module_version": "1.2.0",
            "_view_name": "LayoutView",
            "align_content": null,
            "align_items": null,
            "align_self": null,
            "border": null,
            "bottom": null,
            "display": null,
            "flex": null,
            "flex_flow": null,
            "grid_area": null,
            "grid_auto_columns": null,
            "grid_auto_flow": null,
            "grid_auto_rows": null,
            "grid_column": null,
            "grid_gap": null,
            "grid_row": null,
            "grid_template_areas": null,
            "grid_template_columns": null,
            "grid_template_rows": null,
            "height": null,
            "justify_content": null,
            "justify_items": null,
            "left": null,
            "margin": null,
            "max_height": null,
            "max_width": null,
            "min_height": null,
            "min_width": null,
            "object_fit": null,
            "object_position": null,
            "order": null,
            "overflow": null,
            "overflow_x": null,
            "overflow_y": null,
            "padding": null,
            "right": null,
            "top": null,
            "visibility": null,
            "width": null
          }
        },
        "8c59aaf1ca064d01896f230fb418a42b": {
          "model_module": "@jupyter-widgets/controls",
          "model_name": "ProgressStyleModel",
          "model_module_version": "1.5.0",
          "state": {
            "_model_module": "@jupyter-widgets/controls",
            "_model_module_version": "1.5.0",
            "_model_name": "ProgressStyleModel",
            "_view_count": null,
            "_view_module": "@jupyter-widgets/base",
            "_view_module_version": "1.2.0",
            "_view_name": "StyleView",
            "bar_color": null,
            "description_width": ""
          }
        },
        "1e3e4dbbf05c4bef8cb76210b3d95fb8": {
          "model_module": "@jupyter-widgets/base",
          "model_name": "LayoutModel",
          "model_module_version": "1.2.0",
          "state": {
            "_model_module": "@jupyter-widgets/base",
            "_model_module_version": "1.2.0",
            "_model_name": "LayoutModel",
            "_view_count": null,
            "_view_module": "@jupyter-widgets/base",
            "_view_module_version": "1.2.0",
            "_view_name": "LayoutView",
            "align_content": null,
            "align_items": null,
            "align_self": null,
            "border": null,
            "bottom": null,
            "display": null,
            "flex": null,
            "flex_flow": null,
            "grid_area": null,
            "grid_auto_columns": null,
            "grid_auto_flow": null,
            "grid_auto_rows": null,
            "grid_column": null,
            "grid_gap": null,
            "grid_row": null,
            "grid_template_areas": null,
            "grid_template_columns": null,
            "grid_template_rows": null,
            "height": null,
            "justify_content": null,
            "justify_items": null,
            "left": null,
            "margin": null,
            "max_height": null,
            "max_width": null,
            "min_height": null,
            "min_width": null,
            "object_fit": null,
            "object_position": null,
            "order": null,
            "overflow": null,
            "overflow_x": null,
            "overflow_y": null,
            "padding": null,
            "right": null,
            "top": null,
            "visibility": null,
            "width": null
          }
        },
        "46dd8761e1c047278a8d0070e109549a": {
          "model_module": "@jupyter-widgets/controls",
          "model_name": "DescriptionStyleModel",
          "model_module_version": "1.5.0",
          "state": {
            "_model_module": "@jupyter-widgets/controls",
            "_model_module_version": "1.5.0",
            "_model_name": "DescriptionStyleModel",
            "_view_count": null,
            "_view_module": "@jupyter-widgets/base",
            "_view_module_version": "1.2.0",
            "_view_name": "StyleView",
            "description_width": ""
          }
        }
      }
    }
  },
  "nbformat": 4,
  "nbformat_minor": 5
}