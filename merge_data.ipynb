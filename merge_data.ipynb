{
 "cells": [
  {
   "cell_type": "code",
   "execution_count": 1,
   "id": "0f932898",
   "metadata": {},
   "outputs": [],
   "source": [
    "# Merge the metadata and the Ground Truth file into one CSV where all the data will be"
   ]
  },
  {
   "cell_type": "code",
   "execution_count": 2,
   "id": "cb51ffc0",
   "metadata": {},
   "outputs": [],
   "source": [
    "# Import modules\n",
    "import pandas as pd"
   ]
  },
  {
   "cell_type": "code",
   "execution_count": 3,
   "id": "90291e7e",
   "metadata": {},
   "outputs": [],
   "source": [
    "# Load each csv using read_csv\n",
    "metadata = pd.read_csv('ISIC_2019_Training_Metadata.csv');\n",
    "ground_truth = pd.read_csv('ISIC_2019_Training_GroundTruth.csv')\n",
    "\n",
    "# Merge both files in one dataset\n",
    "data = metadata.merge(ground_truth, on='image')\n",
    "\n",
    "# Drop useless lesion_id column\n",
    "data = data.drop(columns='lesion_id')\n",
    "\n",
    "# Check data\n",
    "data.head()\n",
    "data.to_csv('data.csv', index=False)"
   ]
  }
 ],
 "metadata": {
  "kernelspec": {
   "display_name": "Python 3 (ipykernel)",
   "language": "python",
   "name": "python3"
  },
  "language_info": {
   "codemirror_mode": {
    "name": "ipython",
    "version": 3
   },
   "file_extension": ".py",
   "mimetype": "text/x-python",
   "name": "python",
   "nbconvert_exporter": "python",
   "pygments_lexer": "ipython3",
   "version": "3.8.10"
  }
 },
 "nbformat": 4,
 "nbformat_minor": 5
}
