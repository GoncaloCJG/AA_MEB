{
 "cells": [
  {
   "cell_type": "code",
   "execution_count": 1,
   "id": "0f932898",
   "metadata": {},
   "outputs": [],
   "source": [
    "# Merge clinical and metadata"
   ]
  },
  {
   "cell_type": "code",
   "execution_count": 2,
   "id": "cb51ffc0",
   "metadata": {},
   "outputs": [],
   "source": [
    "# Import modules\n",
    "import pandas as pd"
   ]
  },
  {
   "cell_type": "code",
   "execution_count": 3,
   "id": "90291e7e",
   "metadata": {},
   "outputs": [],
   "source": [
    "# TRAINING DATA\n",
    "# Load each csv using read_csv\n",
    "data = pd.read_csv('ISIC-2017_Training_Part3_GroundTruth.csv'); # load ground truth data\n",
    "metadata = pd.read_csv('ISIC-2017_Training_Data_metadata.csv') # load metadata\n",
    "data = metadata.merge(data, on='image_id') # merge ground truth on metadata\n",
    "data.to_csv('merged_training_data.csv', index=False) # save merged dataframe to csv file"
   ]
  },
  {
   "cell_type": "code",
   "execution_count": 4,
   "id": "4cccd7ef",
   "metadata": {},
   "outputs": [],
   "source": [
    "# VALIDATION DATA\n",
    "data = pd.read_csv('ISIC-2017_Validation_Part3_GroundTruth.csv'); # load ground truth data\n",
    "metadata = pd.read_csv('ISIC-2017_Validation_Data_metadata.csv') # load metadata\n",
    "data = metadata.merge(data, on='image_id') # merge ground truth on metadata\n",
    "data.to_csv('merged_validation_data.csv', index=False) # save merged dataframe to csv file"
   ]
  },
  {
   "cell_type": "code",
   "execution_count": 5,
   "id": "8f091579",
   "metadata": {},
   "outputs": [],
   "source": [
    "# TEST DATA\n",
    "data = pd.read_csv('ISIC-2017_Test_v2_Part3_GroundTruth.csv'); # load ground truth data\n",
    "metadata = pd.read_csv('ISIC-2017_Test_v2_Data_metadata.csv') # load metadata\n",
    "data = metadata.merge(data, on='image_id') # merge ground truth on metadata\n",
    "data.to_csv('merged_test_data.csv', index=False) # save merged dataframe to csv file"
   ]
  }
 ],
 "metadata": {
  "kernelspec": {
   "display_name": "aaenv",
   "language": "python",
   "name": "aaenv"
  },
  "language_info": {
   "codemirror_mode": {
    "name": "ipython",
    "version": 3
   },
   "file_extension": ".py",
   "mimetype": "text/x-python",
   "name": "python",
   "nbconvert_exporter": "python",
   "pygments_lexer": "ipython3",
   "version": "3.8.10"
  }
 },
 "nbformat": 4,
 "nbformat_minor": 5
}
