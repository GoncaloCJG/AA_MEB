{
 "cells": [
  {
   "cell_type": "code",
   "execution_count": null,
   "id": "2e15c5da",
   "metadata": {},
   "outputs": [],
   "source": [
    "## This scripts serves as the extractor for all features used in this project\n",
    "## it will iterate through each image in the dataset and extract features\n"
   ]
  },
  {
   "cell_type": "code",
   "execution_count": null,
   "id": "17fcec59",
   "metadata": {},
   "outputs": [],
   "source": [
    "# import modules\n",
    "import pandas as pd\n",
    "import numpy as np\n",
    "import cv2 as cv\n",
    "from radiomics import featureextractor\n",
    "from IPython.display import clear_output\n"
   ]
  },
  {
   "cell_type": "code",
   "execution_count": null,
   "id": "31459186",
   "metadata": {},
   "outputs": [],
   "source": [
    "# Load training data csv. The original file contains the images names and patient data\n",
    "training_data_csv = pd.read_csv('../merged_training_data.csv')\n",
    "training_data_csv.head()"
   ]
  },
  {
   "cell_type": "code",
   "execution_count": null,
   "id": "9a455607",
   "metadata": {},
   "outputs": [],
   "source": [
    "## image and mask loading\n",
    "\n",
    "\n",
    "\n",
    "def img_mask_load(img_name_load):\n",
    "    \n",
    "    ''' Function that takes the image name \n",
    "    from the Dataframe, searches this name in the image directory\n",
    "    and loads it, along with the corresponding mask. Also, applies\n",
    "    the mask to perform the segmentation along with histogram normalization\n",
    "    \n",
    "    \n",
    "    \n",
    "    '''\n",
    "    \n",
    "    im_path = '' ## CHANGE THIS VARIABLE WITH THE PATH WHERE YOU HAVE THE IMAGES\n",
    "    mask_path = '' ## CHANGE THIS VARIABLE WITH THE PATH WHERE THE MAKS ARE\n",
    "    \n",
    "    img = cv.imread(im_path + img_name_load + '.jpg',-1)\n",
    "    img_rgb = cv.cvtColor(img, cv.COLOR_BGR2RGB)\n",
    "    mask = cv.imread(img_name_load + 'segmentation.jpg', -1)\n",
    "    img_segmented = cv.normalize(cv.bitwise_and(img, img, mask=mask),  output_array, 0, 255, cv.NORM_MINMAX)\n",
    "    return img_segmented\n"
   ]
  },
  {
   "cell_type": "code",
   "execution_count": null,
   "id": "d0386dde",
   "metadata": {},
   "outputs": [],
   "source": [
    "## function for RGB features extraction\n",
    "\n",
    "\n",
    "def features_rgb(img_name): \n",
    "    segmented = img_mask_load(img_name)\n",
    "    \n",
    "    # tuple with each color channel\n",
    "    color = ('r','g','b')\n",
    "    \n",
    "    \n",
    "    #  Declare list to store the most repeated pixel intensity in each channel\n",
    "    mode_color_channel = []\n",
    "    bp = []\n",
    "\n",
    "# Iterate through each color channel and obtain histogram\n",
    "    for i,col in enumerate(color):   \n",
    "        histr = cv.calcHist([segmented],[i],None,[256],[1,256]) # the range should be [1,256] to exclude black background    \n",
    "        mode_color_channel.append(list(histr.flatten()).index(max(histr.flatten()))) # append mode to mode list\n",
    "        bp.append(segmented[:,:,i].flatten()[segmented[:,:,i].flatten().nonzero()])\n",
    "        \n",
    "        \n",
    "    print(mode_color_channel, bp)\n",
    "    return [mode_color_channel, bp].flatten()"
   ]
  },
  {
   "cell_type": "code",
   "execution_count": null,
   "id": "0572dbe6",
   "metadata": {},
   "outputs": [],
   "source": [
    "## function for Radiomics features extraction\n",
    "\n",
    "def features_radiomics(img_name):\n",
    "    print('radiomics features')\n",
    "    return None"
   ]
  },
  {
   "cell_type": "code",
   "execution_count": null,
   "id": "c9b9e198",
   "metadata": {},
   "outputs": [],
   "source": [
    "## function to iterate through the images, extract the features and append them to the dataframe\n",
    "\n",
    "def feature_extraction():\n",
    "    \n",
    "    for index, image in enumerate(training_data_csv['image_id']):\n",
    "        feat_rgb = features_rgb(image)\n",
    "        feat_radio = features_radiomics(image)\n",
    "        \n",
    "        print(feat_rgb)\n",
    "        print(str(index+1) + '/' + str(len(training_data_csv['image_id']))+ ' images processed...')\n",
    "        clear_output()\n",
    "    return "
   ]
  },
  {
   "cell_type": "code",
   "execution_count": null,
   "id": "7d249215",
   "metadata": {},
   "outputs": [],
   "source": [
    "## Hit it! Extract the features\n",
    "\n",
    "feature_extraction()"
   ]
  }
 ],
 "metadata": {
  "kernelspec": {
   "display_name": "aaenv",
   "language": "python",
   "name": "aaenv"
  },
  "language_info": {
   "codemirror_mode": {
    "name": "ipython",
    "version": 3
   },
   "file_extension": ".py",
   "mimetype": "text/x-python",
   "name": "python",
   "nbconvert_exporter": "python",
   "pygments_lexer": "ipython3",
   "version": "3.8.10"
  }
 },
 "nbformat": 4,
 "nbformat_minor": 5
}
