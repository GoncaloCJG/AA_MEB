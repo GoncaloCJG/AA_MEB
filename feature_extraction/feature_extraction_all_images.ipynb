{
 "cells": [
  {
   "cell_type": "code",
   "execution_count": null,
   "id": "2e15c5da",
   "metadata": {},
   "outputs": [],
   "source": [
    "## This scripts serves as the extractor for all features used in this project\n",
    "## it will iterate through each image in the dataset and extract features\n"
   ]
  },
  {
   "cell_type": "code",
   "execution_count": null,
   "id": "17fcec59",
   "metadata": {},
   "outputs": [],
   "source": [
    "# import modules\n",
    "import pandas as pd\n",
    "import numpy as np\n",
    "import cv2 as cv\n",
    "import matplotlib.pyplot as plt\n",
    "%matplotlib inline \n",
    "from radiomics import featureextractor\n",
    "from IPython.display import clear_output\n",
    "from iteration_utilities import flatten, deepflatten\n",
    "\n"
   ]
  },
  {
   "cell_type": "code",
   "execution_count": null,
   "id": "31459186",
   "metadata": {},
   "outputs": [],
   "source": [
    "# Load training data csv. The original file contains the images names and patient data\n",
    "training_data_csv = pd.read_csv('../merged_training_data.csv')\n",
    "training_data_csv.head()"
   ]
  },
  {
   "cell_type": "code",
   "execution_count": null,
   "id": "9a455607",
   "metadata": {},
   "outputs": [],
   "source": [
    "## image and mask loading\n",
    "\n",
    "def img_mask_load(img_name_load):\n",
    "    \n",
    "    ''' \n",
    "    \n",
    "    Function that takes the image name \n",
    "    from the Dataframe, searches this name in the image directory\n",
    "    and loads it, along with the corresponding mask. Also, applies\n",
    "    the mask to perform the segmentation along with histogram normalization\n",
    "    \n",
    "    '''\n",
    "    \n",
    "    im_path = '../../ISIC-2017_Training_Data/' ## CHANGE THIS VARIABLE WITH THE PATH WHERE YOU HAVE THE IMAGES\n",
    "    mask_path = '../../ISIC-2017_Training_Part1_GroundTruth/' ## CHANGE THIS VARIABLE WITH THE PATH WHERE THE MAKS ARE\n",
    "    img = cv.imread(im_path + img_name_load + '.jpg',-1)\n",
    "    img_rgb = cv.cvtColor(img, cv.COLOR_BGR2RGB)\n",
    "    mask = cv.imread(mask_path + img_name_load + '_segmentation.png', -1)\n",
    "    output_array = np.zeros((img.shape[0],img.shape[1])) # Array to store normalized image\n",
    "    img_segmented = cv.normalize(cv.bitwise_and(img_rgb, img_rgb, mask=mask),  output_array, 0, 255, cv.NORM_MINMAX)\n",
    "    \n",
    "    # return the segmented image for color channel features, and \n",
    "    return img_segmented, img, mask\n"
   ]
  },
  {
   "cell_type": "code",
   "execution_count": null,
   "id": "d0386dde",
   "metadata": {},
   "outputs": [],
   "source": [
    "## function for RGB features extraction\n",
    "\n",
    "def features_rgb(img_name):\n",
    "    # segment the image using the segmentation function\n",
    "    segmented, _, _, _ = img_mask_load(img_name)\n",
    "    \n",
    "    # Tuple with each color channel\n",
    "    color = ('r','g','b')\n",
    "    \n",
    "    \n",
    "    #  Declare list to store the most repeated pixel intensity in each channel\n",
    "    mode_color_channel = []\n",
    "    bp = []\n",
    "    medians = []\n",
    "    iqrs = []\n",
    "    \n",
    "\n",
    "    # Iterate through each color channel and obtain histogram\n",
    "    for i,col in enumerate(color):   \n",
    "        histr = cv.calcHist([segmented],[i],None,[256],[1,256]) # the range should be [1,256] to exclude black background    \n",
    "        mode_color_channel.append(list(histr.flatten()).index(max(histr.flatten()))) # append mode to mode list\n",
    "        bp.append(segmented[:,:,i].flatten()[segmented[:,:,i].flatten().nonzero()])\n",
    "        \n",
    "    for i in range(len(bp)):\n",
    "        medians.append(round(np.median(bp[i]))) # get median\n",
    "        q3, q1 = np.percentile(bp[i], [75,25]) # get 3rd quartile and 1st quartile\n",
    "        iqr = round(q3 - q1) # calculate quartile diference\n",
    "        iqrs.append(iqr) # append to interquartile range array\n",
    "                    \n",
    "    return mode_color_channel, medians, iqrs\n"
   ]
  },
  {
   "cell_type": "code",
   "execution_count": null,
   "id": "0572dbe6",
   "metadata": {},
   "outputs": [],
   "source": [
    "## function for Radiomics features extraction\n",
    "\n",
    "def features_radiomics(img_name):\n",
    "    \n",
    "    # Load image path\n",
    "    _, img, mask = img_mask_load(img_name) # segment the image using img_mask_load function\n",
    "    img_gray = cv.cvtColor(img, cv.COLOR_BGR2GRAY)\n",
    "    \n",
    "    im, label = '../pyradiomicsdir/img_gray_1.jpg' , '../pyradiomicsdir/mask.jpg'\n",
    "    # save grayscale image and mask as jpg\n",
    "    cv.imwrite(im, img_gray) \n",
    "    cv.imwrite(label, mask)\n",
    "    \n",
    "  \n",
    "    # extract features\n",
    "    extractor = featureextractor.RadiomicsFeatureExtractor()\n",
    "    result = extractor.execute(im, label)\n",
    "    a = list(result.values())\n",
    "    b = []\n",
    "    for i in deepflatten(a[22:]):\n",
    "        b.append(i.tolist())\n",
    "    print(b)\n",
    "    return None"
   ]
  },
  {
   "cell_type": "code",
   "execution_count": null,
   "id": "c9b9e198",
   "metadata": {},
   "outputs": [],
   "source": [
    "## function to iterate through the images, extract the features and append them to the dataframe\n",
    "\n",
    "def feature_extraction():\n",
    "    # columns for rgb features dataframe\n",
    "    columns = ['image_id','red_mode', 'green_mode', 'blue_mode', 'red_median','green_median', 'blue_median', 'red_iqr', 'green_iqr', 'blue_iqr']\n",
    "    \n",
    "    # create dataframe with rgb columns\n",
    "    features_dataframe = pd.DataFrame(columns = columns)\n",
    "    \n",
    "    # iterate through each image, extract features and append to dataframe\n",
    "    for index, image in enumerate(training_data_csv['image_id'][:2]):  \n",
    "        feat_rgb = features_rgb(image)   # extract rgb features with features_rgb function built previously\n",
    "        feat_radio = features_radiomics(image)\n",
    "        print(feat_radio)\n",
    "        features_dataframe = features_dataframe.append(pd.DataFrame([deepflatten(feat_rgb)], columns = columns[1:], index=[index]));\n",
    "        features_dataframe.at[index, columns[0]] = image\n",
    "        print(str(index+1) + '/' + str(len(training_data_csv['image_id']))+ ' images processed...')\n",
    "        #clear_output(wait=True)\n",
    "    return features_dataframe"
   ]
  },
  {
   "cell_type": "code",
<<<<<<< HEAD
   "execution_count": null,
   "id": "7d249215",
=======
   "execution_count": 8,
   "id": "6708b687",
>>>>>>> 0d9c5ebc377da3f047a3e1c14b96600b6e58534d
   "metadata": {},
<<<<<<< HEAD
   "outputs": [],
=======
   "outputs": [
    {
     "name": "stderr",
     "output_type": "stream",
     "text": [
      "Shape features are only available 3D input (for 2D input, use shape2D). Found 2D input\n",
      "GLCM is symmetrical, therefore Sum Average = 2 * Joint Average, only 1 needs to be calculated\n",
      "/tmp/ipykernel_23857/1474331941.py:15: FutureWarning: The frame.append method is deprecated and will be removed from pandas in a future version. Use pandas.concat instead.\n",
      "  features_dataframe = features_dataframe.append(pd.DataFrame([deepflatten(feat_rgb)], columns = columns[1:], index=[index]));\n",
      "Shape features are only available 3D input (for 2D input, use shape2D). Found 2D input\n",
      "GLCM is symmetrical, therefore Sum Average = 2 * Joint Average, only 1 needs to be calculated\n"
     ]
    },
    {
     "name": "stdout",
     "output_type": "stream",
     "text": [
      "[169.60000000000002, 182.0, 62293748.0, 0.9606183092100221, 6.0, 6.5840644923392535, 190.0, 4.095380637904534, 175.64898363906792, 176.0, 144.0, 46.0, 2.6411817595289726, 175.7394576234682, -1.2067300754333081, 62293748.0, 0.5397342715819846, 31.791512353227613, 7.095172086328818, 1.1359537304893097, -0.3706386852156937, 0.7846614373147877, 0.11836712920212619, 0.731243673293035, 0.11836712920212619, 0.5137925304252066, 0.10280164275824552, 0.9408164353989368, 0.9408164353989368, 0.9881632870797874, 0.9704082176994684, -0.4524647557992147, 0.7411351226711154, 0.11836712920212619, 2.6297958613687715, 0.45348613202468957, 1.4350677438906452, 0.7312758503216483, 0.5958811139720098, 5.259591722737543, 1.3167006146885192, 0.22575714162922844, 2.7770593115580975, 608.7501239464551, 0.3018096796958131, 0.8744752400825014, 1088.6440257808626, 0.2349223469620767, 7.212692117005454, 5.229053049082796, 37.03420922161626, 0.8711094584917094, 0.16241117170715585, 0.4415066380212637, 3.2289162948273016, 0.07001626988498993, 948.0968261508134, 0.5449312004156904, 0.23183715493854234, 7.243367013459686, 3.0035524357150067, 17.415056699857775, 0.6048871350924583, 0.16140377207006693, 1.525134643131238, 1390.2637465317453, 0.7966029026213968, 0.864154685176004, 1.6520563191216642, 0.9129274989554509, 6.588855149982019, 0.1480407994662381, 575.4253658536585, 0.5613906008328376, 0.22128352171326593, 7.377560975609756, 15.300487804878049, 85.43609756097561, 3.1682113821138214, 0.15682926829268293, 459.5385365853659, 0.4483302795954789, 0.6956815888387999, 5.098647882898407, 0.10961525992699574, 2.6254309004780545, 0.5081804660386713, 11.428231766805473, 10.780366778006167, 0.012018203079031451, 0.32965390804287165, 0.006512679507996756, 0.046968871891456154]\n",
      "None\n",
      "1/2000 images processed...\n",
      "[112.0, 135.0, 12760373.0, 1.163591833740209, 12.0, 4.363266293145934, 152.0, 7.4213574180991975, 123.52707581227436, 124.0, 80.0, 72.0, 5.025631126082062, 123.91708050124433, -0.48724231265815116, 12760373.0, 0.4754612554140763, 96.50438122048597, 6.02390508042682, 2.477087736485281, -0.21348710306932286, 1.0327439845193243, 0.17105877849584944, 0.7112092528388692, 0.17105877849584944, 0.655353720837395, 0.14090567795796025, 0.9144706107520753, 0.9144706107520753, 0.9899377189120089, 0.9657882443008301, -0.40323620572015495, 0.7701035644098553, 0.17105877849584944, 2.4097156212716855, 0.34664426941942583, 1.841790127125281, 0.7637040944348059, 0.4482464522510289, 4.819431242543371, 1.6707313486294324, 0.30095069075379344, 2.9531949083357665, 265.31287605294824, 0.3192694055992157, 0.8487997439762743, 395.10830324909745, 0.3008944901319362, 6.221419975932611, 4.672683513838749, 28.353790613718413, 0.9747125284128894, 0.20549204439096136, 0.486869902393368, 3.0700193876186654, 0.09864184531503023, 347.47112200619745, 0.4748462498134596, 0.30200610104354997, 6.2411858034783645, 1.4550057095101003, 9.01974081419508, 0.29942299505536646, 0.2049957781828817, 1.752808694089021, 577.9632074463667, 0.7896779251729238, 0.8805655836341757, 0.16498019187720875, 0.9096723498600313, 5.690232044221983, 0.18610998870800383, 225.93305439330544, 0.472663293709844, 0.30584198455909384, 6.297071129707113, 5.341004184100418, 33.68200836820084, 1.05924569967457, 0.20353905160390517, 217.5020920502092, 0.4550252971761699, 0.7002032033674758, 4.44103090025339, 0.1408308113709345, 2.777912802157009, 0.5752105896510229, 2.31864375623676, 4.577622723673793, 0.021560008907665133, 0.80848017901325, 0.006019700238800768, 0.12474025014401224]\n",
      "None\n",
      "2/2000 images processed...\n"
     ]
    },
    {
     "name": "stderr",
     "output_type": "stream",
     "text": [
      "/tmp/ipykernel_23857/1474331941.py:15: FutureWarning: The frame.append method is deprecated and will be removed from pandas in a future version. Use pandas.concat instead.\n",
      "  features_dataframe = features_dataframe.append(pd.DataFrame([deepflatten(feat_rgb)], columns = columns[1:], index=[index]));\n"
     ]
    },
    {
     "data": {
      "text/html": [
       "<div>\n",
       "<style scoped>\n",
       "    .dataframe tbody tr th:only-of-type {\n",
       "        vertical-align: middle;\n",
       "    }\n",
       "\n",
       "    .dataframe tbody tr th {\n",
       "        vertical-align: top;\n",
       "    }\n",
       "\n",
       "    .dataframe thead th {\n",
       "        text-align: right;\n",
       "    }\n",
       "</style>\n",
       "<table border=\"1\" class=\"dataframe\">\n",
       "  <thead>\n",
       "    <tr style=\"text-align: right;\">\n",
       "      <th></th>\n",
       "      <th>image_id</th>\n",
       "      <th>red_mode</th>\n",
       "      <th>green_mode</th>\n",
       "      <th>blue_mode</th>\n",
       "      <th>red_median</th>\n",
       "      <th>green_median</th>\n",
       "      <th>blue_median</th>\n",
       "      <th>red_iqr</th>\n",
       "      <th>green_iqr</th>\n",
       "      <th>blue_iqr</th>\n",
       "    </tr>\n",
       "  </thead>\n",
       "  <tbody>\n",
       "    <tr>\n",
       "      <th>0</th>\n",
       "      <td>ISIC_0000000</td>\n",
       "      <td>65</td>\n",
       "      <td>51</td>\n",
       "      <td>57</td>\n",
       "      <td>94</td>\n",
       "      <td>79</td>\n",
       "      <td>84</td>\n",
       "      <td>67</td>\n",
       "      <td>65</td>\n",
       "      <td>60</td>\n",
       "    </tr>\n",
       "    <tr>\n",
       "      <th>1</th>\n",
       "      <td>ISIC_0000001</td>\n",
       "      <td>87</td>\n",
       "      <td>53</td>\n",
       "      <td>46</td>\n",
       "      <td>116</td>\n",
       "      <td>72</td>\n",
       "      <td>55</td>\n",
       "      <td>86</td>\n",
       "      <td>58</td>\n",
       "      <td>40</td>\n",
       "    </tr>\n",
       "  </tbody>\n",
       "</table>\n",
       "</div>"
      ],
      "text/plain": [
       "       image_id red_mode green_mode blue_mode red_median green_median  \\\n",
       "0  ISIC_0000000       65         51        57         94           79   \n",
       "1  ISIC_0000001       87         53        46        116           72   \n",
       "\n",
       "  blue_median red_iqr green_iqr blue_iqr  \n",
       "0          84      67        65       60  \n",
       "1          55      86        58       40  "
      ]
     },
     "execution_count": 8,
     "metadata": {},
     "output_type": "execute_result"
    }
   ],
>>>>>>> 3fd933da7853fb765fcefe5fbeae1ce8955ca25c
   "source": [
    "## Hit it! Extract the features\n",
    "f = feature_extraction()\n",
    "f"
   ]
<<<<<<< HEAD
=======
  },
  {
   "cell_type": "code",
   "execution_count": null,
   "id": "f6af63e5",
   "metadata": {},
   "outputs": [],
   "source": []
>>>>>>> 3fd933da7853fb765fcefe5fbeae1ce8955ca25c
  }
 ],
 "metadata": {
  "kernelspec": {
   "display_name": "aaenv",
   "language": "python",
   "name": "aaenv"
  },
  "language_info": {
   "codemirror_mode": {
    "name": "ipython",
    "version": 3
   },
   "file_extension": ".py",
   "mimetype": "text/x-python",
   "name": "python",
   "nbconvert_exporter": "python",
   "pygments_lexer": "ipython3",
   "version": "3.8.10"
  }
 },
 "nbformat": 4,
 "nbformat_minor": 5
}
