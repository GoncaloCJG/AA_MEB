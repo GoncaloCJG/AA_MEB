{
 "cells": [
  {
   "cell_type": "code",
   "execution_count": null,
   "id": "2e15c5da",
   "metadata": {},
   "outputs": [],
   "source": [
    "## This scripts serves as the extractor for all features used in this project\n",
    "## it will iterate through each image in the dataset and extract features\n"
   ]
  },
  {
   "cell_type": "code",
   "execution_count": null,
   "id": "17fcec59",
   "metadata": {},
   "outputs": [],
   "source": [
    "# import modules\n",
    "import pandas as pd\n",
    "import numpy as np\n",
    "import cv2 as cv\n",
    "from radiomics import featureextractor\n",
    "from IPython.display import clear_output\n",
    "from iteration_utilities import flatten\n",
    "\n"
   ]
  },
  {
   "cell_type": "code",
   "execution_count": null,
   "id": "31459186",
   "metadata": {},
   "outputs": [],
   "source": [
    "# Load training data csv. The original file contains the images names and patient data\n",
    "training_data_csv = pd.read_csv('../merged_training_data.csv')\n",
    "training_data_csv.head()"
   ]
  },
  {
   "cell_type": "code",
   "execution_count": null,
   "id": "9a455607",
   "metadata": {},
   "outputs": [],
   "source": [
    "## image and mask loading\n",
    "\n",
    "def img_mask_load(img_name_load):\n",
    "    \n",
    "    ''' \n",
    "    \n",
    "    Function that takes the image name \n",
    "    from the Dataframe, searches this name in the image directory\n",
    "    and loads it, along with the corresponding mask. Also, applies\n",
    "    the mask to perform the segmentation along with histogram normalization\n",
    "    \n",
    "    '''\n",
    "    \n",
    "    im_path = '../../ISIC-2017_Training_Data/' ## CHANGE THIS VARIABLE WITH THE PATH WHERE YOU HAVE THE IMAGES\n",
    "    mask_path = '../../ISIC-2017_Training_Part1_GroundTruth/' ## CHANGE THIS VARIABLE WITH THE PATH WHERE THE MAKS ARE\n",
    "    print(im_path + img_name_load + '.jpg')\n",
    "    img = cv.imread(im_path + img_name_load + '.jpg',-1)\n",
    "    img_rgb = cv.cvtColor(img, cv.COLOR_BGR2RGB)\n",
    "    mask = cv.imread(mask_path + img_name_load + '_segmentation.png', -1)\n",
    "    output_array = np.zeros((img.shape[0],img.shape[1])) # Array to store normalized image\n",
    "    img_segmented = cv.normalize(cv.bitwise_and(img_rgb, img_rgb, mask=mask),  output_array, 0, 255, cv.NORM_MINMAX)\n",
    "    return img_segmented\n"
   ]
  },
  {
   "cell_type": "code",
   "execution_count": null,
   "id": "d0386dde",
   "metadata": {},
   "outputs": [],
   "source": [
    "## function for RGB features extraction\n",
    "\n",
    "def features_rgb(img_name): \n",
    "    segmented = img_mask_load(img_name)\n",
    "    \n",
    "    # Tuple with each color channel\n",
    "    color = ('r','g','b')\n",
    "    \n",
    "    \n",
    "    #  Declare list to store the most repeated pixel intensity in each channel\n",
    "    mode_color_channel = []\n",
    "    bp = []\n",
    "    medians = []\n",
    "    iqrs = []\n",
    "    \n",
    "\n",
    "    # Iterate through each color channel and obtain histogram\n",
    "    for i,col in enumerate(color):   \n",
    "        histr = cv.calcHist([segmented],[i],None,[256],[1,256]) # the range should be [1,256] to exclude black background    \n",
    "        mode_color_channel.append(list(histr.flatten()).index(max(histr.flatten()))) # append mode to mode list\n",
    "        bp.append(segmented[:,:,i].flatten()[segmented[:,:,i].flatten().nonzero()])\n",
    "        \n",
    "    for i in range(len(bp)):\n",
    "        medians.append(np.median(bp[i])) # get median\n",
    "        q3, q1 = np.percentile(bp[i], [75,25]) # get 3rd quartile and 1st quartile\n",
    "        iqr = q3 - q1 # calculate quartile diference\n",
    "        iqrs.append(iqr) # append to interquartile range array\n",
    "        \n",
    "        \n",
    "    print(mode_color_channel, bp)\n",
    "    return [mode_color_channel, medians, iqrs].flatten"
   ]
  },
  {
   "cell_type": "code",
   "execution_count": null,
   "id": "0572dbe6",
   "metadata": {},
   "outputs": [],
   "source": [
    "## function for Radiomics features extraction\n",
    "\n",
    "def features_radiomics(img_name):\n",
    "    print('radiomics features')\n",
    "    return None"
   ]
  },
  {
   "cell_type": "code",
   "execution_count": null,
   "id": "c9b9e198",
   "metadata": {},
   "outputs": [],
   "source": [
    "## function to iterate through the images, extract the features and append them to the dataframe\n",
    "\n",
    "def feature_extraction():\n",
    "    \n",
    "    for index, image in enumerate(training_data_csv['image_id'][0:1]):\n",
    "        feat_rgb = features_rgb(image)\n",
    "        \n",
    "        \n",
    "        \n",
    "        feat_radio = features_radiomics(image)\n",
    "        \n",
    "        print(str(index+1) + '/' + str(len(training_data_csv['image_id']))+ ' images processed...')\n",
    "        clear_output()\n",
    "    return [feat_rgb, feat_radio]"
   ]
  },
  {
   "cell_type": "code",
   "execution_count": null,
   "id": "7d249215",
   "metadata": {},
<<<<<<< HEAD
   "outputs": [],
=======
   "outputs": [
    {
     "name": "stdout",
     "output_type": "stream",
     "text": [
      "../../ISIC-2017_Training_Data/ISIC_0000000.jpg\n",
      "[65, 51, 57] [array([185, 184, 181, ..., 184, 184, 180], dtype=uint8), array([217, 216, 212, ..., 198, 203, 200], dtype=uint8), array([249, 248, 244, ..., 224, 234, 231], dtype=uint8)]\n"
     ]
    },
    {
     "ename": "AttributeError",
     "evalue": "'list' object has no attribute 'flatten'",
     "output_type": "error",
     "traceback": [
      "\u001b[0;31m---------------------------------------------------------------------------\u001b[0m",
      "\u001b[0;31mAttributeError\u001b[0m                            Traceback (most recent call last)",
      "Cell \u001b[0;32mIn [8], line 3\u001b[0m\n\u001b[1;32m      1\u001b[0m \u001b[38;5;66;03m## Hit it! Extract the features\u001b[39;00m\n\u001b[0;32m----> 3\u001b[0m f \u001b[38;5;241m=\u001b[39m \u001b[43mfeature_extraction\u001b[49m\u001b[43m(\u001b[49m\u001b[43m)\u001b[49m\n\u001b[1;32m      4\u001b[0m \u001b[38;5;28mprint\u001b[39m(f)\n",
      "Cell \u001b[0;32mIn [7], line 6\u001b[0m, in \u001b[0;36mfeature_extraction\u001b[0;34m()\u001b[0m\n\u001b[1;32m      3\u001b[0m \u001b[38;5;28;01mdef\u001b[39;00m \u001b[38;5;21mfeature_extraction\u001b[39m():\n\u001b[1;32m      5\u001b[0m     \u001b[38;5;28;01mfor\u001b[39;00m index, image \u001b[38;5;129;01min\u001b[39;00m \u001b[38;5;28menumerate\u001b[39m(training_data_csv[\u001b[38;5;124m'\u001b[39m\u001b[38;5;124mimage_id\u001b[39m\u001b[38;5;124m'\u001b[39m][\u001b[38;5;241m0\u001b[39m:\u001b[38;5;241m1\u001b[39m]):\n\u001b[0;32m----> 6\u001b[0m         feat_rgb \u001b[38;5;241m=\u001b[39m \u001b[43mfeatures_rgb\u001b[49m\u001b[43m(\u001b[49m\u001b[43mimage\u001b[49m\u001b[43m)\u001b[49m\n\u001b[1;32m      7\u001b[0m         feat_radio \u001b[38;5;241m=\u001b[39m features_radiomics(image)\n\u001b[1;32m      9\u001b[0m         \u001b[38;5;28mprint\u001b[39m(\u001b[38;5;28mstr\u001b[39m(index\u001b[38;5;241m+\u001b[39m\u001b[38;5;241m1\u001b[39m) \u001b[38;5;241m+\u001b[39m \u001b[38;5;124m'\u001b[39m\u001b[38;5;124m/\u001b[39m\u001b[38;5;124m'\u001b[39m \u001b[38;5;241m+\u001b[39m \u001b[38;5;28mstr\u001b[39m(\u001b[38;5;28mlen\u001b[39m(training_data_csv[\u001b[38;5;124m'\u001b[39m\u001b[38;5;124mimage_id\u001b[39m\u001b[38;5;124m'\u001b[39m]))\u001b[38;5;241m+\u001b[39m \u001b[38;5;124m'\u001b[39m\u001b[38;5;124m images processed...\u001b[39m\u001b[38;5;124m'\u001b[39m)\n",
      "Cell \u001b[0;32mIn [5], line 31\u001b[0m, in \u001b[0;36mfeatures_rgb\u001b[0;34m(img_name)\u001b[0m\n\u001b[1;32m     27\u001b[0m     iqrs\u001b[38;5;241m.\u001b[39mappend(iqr) \u001b[38;5;66;03m# append to interquartile range array\u001b[39;00m\n\u001b[1;32m     30\u001b[0m \u001b[38;5;28mprint\u001b[39m(mode_color_channel, bp)\n\u001b[0;32m---> 31\u001b[0m \u001b[38;5;28;01mreturn\u001b[39;00m \u001b[43m[\u001b[49m\u001b[43mmode_color_channel\u001b[49m\u001b[43m,\u001b[49m\u001b[43m \u001b[49m\u001b[43mmedians\u001b[49m\u001b[43m,\u001b[49m\u001b[43m \u001b[49m\u001b[43miqrs\u001b[49m\u001b[43m]\u001b[49m\u001b[38;5;241;43m.\u001b[39;49m\u001b[43mflatten\u001b[49m\n",
      "\u001b[0;31mAttributeError\u001b[0m: 'list' object has no attribute 'flatten'"
     ]
    }
   ],
>>>>>>> 3fd933da7853fb765fcefe5fbeae1ce8955ca25c
   "source": [
    "## Hit it! Extract the features\n",
    "\n",
    "f = feature_extraction()\n",
    "print(f)"
   ]
<<<<<<< HEAD
=======
  },
  {
   "cell_type": "code",
   "execution_count": null,
   "id": "1800416d",
   "metadata": {},
   "outputs": [],
   "source": []
  },
  {
   "cell_type": "code",
   "execution_count": null,
   "id": "1447d150",
   "metadata": {},
   "outputs": [],
   "source": []
>>>>>>> 3fd933da7853fb765fcefe5fbeae1ce8955ca25c
  }
 ],
 "metadata": {
  "kernelspec": {
   "display_name": "aaenv",
   "language": "python",
   "name": "aaenv"
  },
  "language_info": {
   "codemirror_mode": {
    "name": "ipython",
    "version": 3
   },
   "file_extension": ".py",
   "mimetype": "text/x-python",
   "name": "python",
   "nbconvert_exporter": "python",
   "pygments_lexer": "ipython3",
   "version": "3.8.10"
  }
 },
 "nbformat": 4,
 "nbformat_minor": 5
}
